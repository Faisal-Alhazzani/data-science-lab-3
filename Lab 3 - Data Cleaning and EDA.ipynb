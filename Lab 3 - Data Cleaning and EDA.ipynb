{
 "cells": [
  {
   "cell_type": "markdown",
   "metadata": {
    "colab_type": "text",
    "id": "ftO1pIM2ufeu"
   },
   "source": [
    "<div style=\"direction:rtl;text-align:right\">\n",
    "    \n",
    "# تنظيف البيانات والاكتشاف الأولي للبيانات"
   ]
  },
  {
   "cell_type": "markdown",
   "metadata": {
    "colab_type": "text",
    "id": "_yBNoJfGufew"
   },
   "source": [
    "<div style=\"direction:rtl;text-align:right\">\n",
    "جميع المهارات التي سوف نتعلمها في هذه السلسلة ليس لها قيمة حقيقية إذا لم نكن قادرين على قراءة البيانات ورسمها وحفظها كذلك. في هذا الدرس سوف نتعرف على أهم الطرق لقراءة البيانات من مصادر خارجية، أهم أدوات رسم البيانات وكذلك حفظ البيانات. هذا الدرس ربما يكون أكثر الدروس التي ستعود لها بين الفينة والأخرى.\n",
    "</div>"
   ]
  },
  {
   "cell_type": "markdown",
   "metadata": {
    "colab_type": "text",
    "id": "h_lLBZz8ufex"
   },
   "source": [
    "<div style=\"direction:rtl;text-align:right\">\n",
    "\n",
    "# قراءة البيانات"
   ]
  },
  {
   "cell_type": "markdown",
   "metadata": {
    "colab_type": "text",
    "id": "2v6y9z6Dufey"
   },
   "source": [
    "<div style=\"direction:rtl;text-align:right\">\n",
    "سنكتفي في هذا الدرس بالتركيز على أهم أنواع البيانات ونترك الأنواع المتقدمة للدروس القادمة. لا نبالغ إن قلنا أن ملفات Comma Separated Values (CSV) وملفات الاكسل (Excel) هي أكثر الطرق التقليدية لحفظ البيانات -- إلى جانب قواعد البيانات طبعا (مثل SQL وأخواتها)."
   ]
  },
  {
   "cell_type": "markdown",
   "metadata": {
    "colab_type": "text",
    "id": "_7awhPXJufe2"
   },
   "source": [
    "<div style=\"direction:rtl;text-align:right\">\n",
    "ربما تتساءل عن سبب أهمية قراءة البيانات بشكل صحيح. الحقيقة أن كل عمليات تحليل البيانات قائمة على افتراض أن البيانات مقروءة بشكل صحيح. ومعنى هذا أن الأرقام يجب أن تظل أرقاماً، والنصوص يجب أن تظل نصوصاً، والفئات (categories) يجب أن تظل فئات. مكتبات تحليل البيانات قد تقوم ببعض هذه المهام نيابة عنك في تخمين نوع الأعمدة ولكن عليك التأكد دوماً أن نوع البيانات مقروء بشكل سليم."
   ]
  },
  {
   "cell_type": "markdown",
   "metadata": {
    "colab_type": "text",
    "id": "L1Wj_G99ufe4"
   },
   "source": [
    "<div style=\"direction:rtl;text-align:right\">\n",
    "ولكن هناك مصادر أخرى للبيانات لا يشترط أن تكون جاهزة في ملفات مرتبة ومنسقة وهذه تشمل بشكل عام البيانات الموجودة في الانترنت مثل بيانات الشبكات الاجتماعية أو البيانات النصية الموجودة في المواقع. في الحقيقة أن كل ما تراه أمامك الآن في شبكة الانترنت هو عبارة عن بيانات ولكنها بيانات خام لم تنظم في شكل يسهل تحليلها."
   ]
  },
  {
   "cell_type": "markdown",
   "metadata": {
    "colab_type": "text",
    "id": "Ra5fSPSaufe5"
   },
   "source": [
    "<div style=\"direction:rtl;text-align:right\">\n",
    "لنبدأ بقراءة البيانات البسيطة وأعني تلك البيانات المنظمة في شكل ملف نصي (txt) أو في شكل مجدول (csv, excel). لحسن الحظ، توفر نمباي وباندا أوامر جاهزة لقراءة كل هذه البيانات وما علينا إلا أن نكتب الأوامر بشكل صحيح."
   ]
  },
  {
   "cell_type": "markdown",
   "metadata": {
    "colab_type": "text",
    "id": "8C95BIA9ufe7"
   },
   "source": [
    "<div style=\"direction:rtl;text-align:right\">\n",
    "\n",
    "## ملفات CSV"
   ]
  },
  {
   "cell_type": "markdown",
   "metadata": {
    "colab_type": "text",
    "id": "U7AWJYLEufe8"
   },
   "source": [
    "<div style=\"direction:rtl;text-align:right\">\n",
    "لانبالغ بالقول أن ملفات الـCSV هي من أسهل البيانات قراءة وذلك لأننا حين نقرأ البيانات باستخدام نمباي أو باندا فإن هناك العديد من التحريات الخفية التي تجري دون أن نعلم عنها شيئاً. إلا أن الخطأ يظل وارداً. تكمن مصادر الخطأ في كون البيانات غير نظيفة، بالتالي ترى أن الأرقام تحولت إلى نصوص، أو أن هناك قيم مفقودة أو أن البيانات مكتوبة بترميز مختلف وغامض. كل هذه السيناريوهات متكررة كثيراً وليست نادرة الحدوث."
   ]
  },
  {
   "cell_type": "markdown",
   "metadata": {
    "colab_type": "text",
    "id": "QjjvH8mXufe-"
   },
   "source": [
    "<div style=\"direction:rtl;text-align:right\">\n",
    "في البداية، كيف يبدو ملف CSV ؟"
   ]
  },
  {
   "cell_type": "markdown",
   "metadata": {
    "colab_type": "text",
    "id": "WjnwcsE1ufe_"
   },
   "source": [
    "<div style=\"direction:rtl;text-align:right\">\n",
    "ملف CSV هو ملف نصي ولكن له ميزة مهمة: الفاصلة تفصل بين كل قيمة وأخرى (بين الأعمدة) وكل سطر جديد يمثل صفاً جديداً. لتسهيل الوصف، سنطبع كيف يبدو ملف CSV من الداخل. كما تستطيع أن تفتح أي ملف CSV باستخدام المحررات النصية."
   ]
  },
  {
   "cell_type": "markdown",
   "metadata": {
    "colab_type": "text",
    "id": "SYGhlcWquffA"
   },
   "source": [
    "id,age,sex,income <br>\n",
    "1,12,Female,12000 <br>\n",
    "2,40,Male,35000   <br>\n",
    "3,25,Male,29000   <br>\n",
    "4,31,Female,25000 "
   ]
  },
  {
   "cell_type": "markdown",
   "metadata": {
    "colab_type": "text",
    "id": "w_VyCTHBuffB"
   },
   "source": [
    "<div style=\"direction:rtl;text-align:right\">\n",
    "نلاحظ أن الصف الأول أعلاه يحتوي على أسماء الأعمدة بينما ابتداء من الصف الثاني تبدأ صفوف البيانات. يسمى العمود الأول بـ Header ، وبينما تسمى الفاصلة بـ Delimiter أو العلامة المستخدمة للفصل بين القيم. في الأمر التالي، سنقرأ البيانات في باندا ونرى ماهي الخيارات الممكنة في أمر قراءة الملفات:"
   ]
  },
  {
   "cell_type": "code",
   "execution_count": 1,
   "metadata": {
    "colab": {},
    "colab_type": "code",
    "id": "DrNVx839uffC"
   },
   "outputs": [],
   "source": [
    "import pandas as pd"
   ]
  },
  {
   "cell_type": "code",
   "execution_count": 2,
   "metadata": {
    "colab": {},
    "colab_type": "code",
    "id": "BZVTZwgvuffK"
   },
   "outputs": [],
   "source": [
    "df = pd.read_csv('data.csv')"
   ]
  },
  {
   "cell_type": "markdown",
   "metadata": {
    "colab_type": "text",
    "id": "A8WR7xjyuffO"
   },
   "source": [
    "<div style=\"direction:rtl;text-align:right\">\n",
    "في أمر read_csv أو read_tabe، هناك مجموعة من المتغيرات التي تساعد باندا في فهم الملف وقراءته بشكل صحيح. أهم هذه الأوامر كمايلي:"
   ]
  },
  {
   "cell_type": "markdown",
   "metadata": {
    "colab_type": "text",
    "id": "1WS4lauEuffQ"
   },
   "source": [
    "<div style=\"direction:rtl;text-align:right\">\n",
    "path: هنا نضع اسم الملف وعنوانه كاملاً. مثلاً: 'Desktop/data/file.csv' <br>\n",
    "sep or delimiter header: هنا نحدد ماهي العلامة المستخدمة للفصل بين القيم؟ القيمة الافتراضية هي الفاصلة ( أي أن القيمة هي ',') ولكن يمكن تحديد قيم أخرى مثل المسافات. <br>\n",
    "index_col: هنا نخبر باندا ماهو العمود الذي يحتوي على معرف كل صف. المعرف هو قيمة فريدة تعطى لكل صف. إذا لم نحدد هذا الخيار فستقوم باندا بإنشاء عمود جديد يبدأ من الصفر. في حالة البيانات أعلاه، نستطيع أن نكتب 0 أي العمود الأول. <br>\n",
    "names: هنا نستطيع أن نخبر باندا ماهي أسماء الأعمدة التي استوردناها في حالة لم يكن هناك Header موجود في البيانات. لاحظ أن الأسماء يجب أن تكون عبارة عن list في بايثون. لو كان الملف أعلاه بدون أي Header، فسنكتب: ['id', 'age', 'sex', 'income'] <br>\n",
    "skiprows: بعض الملفات النصية يكون في أولها أسطر ليس لها علاقة بالبيانات. في هذا الأمر نستطيع تحديد هذه الأسطر. مثلاً: [0,1,2] <br>\n",
    "na_values: هنا نخبر باندا ماهي القيمة التي نود أن نضعها في حال كانت البيانات مفقودة. القيمة الافتراضية هي 'NaN'. <br>\n",
    "encoding: في حال كانت البيانات مكتوبة بترميز مختلف عن الUTF-8 نستطيع هنا أن نكتب اسم الترميز الصحيح للبيانات وستقوم باندا تلقائياً بقراءة الترميز الصحيح."
   ]
  },
  {
   "cell_type": "markdown",
   "metadata": {
    "colab_type": "text",
    "id": "nJq04HiFuffR"
   },
   "source": [
    "<div style=\"direction:rtl;text-align:right\">\n",
    "    الآن، لنقرأ الملف مرة أخرى مع تحديد بعض هذه القيم ونرى كيف يتعامل باندا مع الأمر"
   ]
  },
  {
   "cell_type": "code",
   "execution_count": 3,
   "metadata": {
    "colab": {},
    "colab_type": "code",
    "id": "OQYzpkROuffU"
   },
   "outputs": [],
   "source": [
    "df = pd.read_csv('data.csv', delimiter=',', index_col=0)"
   ]
  },
  {
   "cell_type": "code",
   "execution_count": 4,
   "metadata": {
    "colab": {},
    "colab_type": "code",
    "id": "YCRrbTcRuffZ",
    "outputId": "7ff309a2-7983-428f-ee9c-78af2fff096a"
   },
   "outputs": [
    {
     "data": {
      "text/html": [
       "<div>\n",
       "<style scoped>\n",
       "    .dataframe tbody tr th:only-of-type {\n",
       "        vertical-align: middle;\n",
       "    }\n",
       "\n",
       "    .dataframe tbody tr th {\n",
       "        vertical-align: top;\n",
       "    }\n",
       "\n",
       "    .dataframe thead th {\n",
       "        text-align: right;\n",
       "    }\n",
       "</style>\n",
       "<table border=\"1\" class=\"dataframe\">\n",
       "  <thead>\n",
       "    <tr style=\"text-align: right;\">\n",
       "      <th></th>\n",
       "      <th>age</th>\n",
       "      <th>sex</th>\n",
       "      <th>income</th>\n",
       "    </tr>\n",
       "    <tr>\n",
       "      <th>id</th>\n",
       "      <th></th>\n",
       "      <th></th>\n",
       "      <th></th>\n",
       "    </tr>\n",
       "  </thead>\n",
       "  <tbody>\n",
       "    <tr>\n",
       "      <th>1</th>\n",
       "      <td>12</td>\n",
       "      <td>Female</td>\n",
       "      <td>12000</td>\n",
       "    </tr>\n",
       "    <tr>\n",
       "      <th>2</th>\n",
       "      <td>40</td>\n",
       "      <td>Male</td>\n",
       "      <td>35000</td>\n",
       "    </tr>\n",
       "    <tr>\n",
       "      <th>3</th>\n",
       "      <td>25</td>\n",
       "      <td>Male</td>\n",
       "      <td>29000</td>\n",
       "    </tr>\n",
       "    <tr>\n",
       "      <th>4</th>\n",
       "      <td>31</td>\n",
       "      <td>Female</td>\n",
       "      <td>25000</td>\n",
       "    </tr>\n",
       "  </tbody>\n",
       "</table>\n",
       "</div>"
      ],
      "text/plain": [
       "    age     sex  income\n",
       "id                     \n",
       "1    12  Female   12000\n",
       "2    40    Male   35000\n",
       "3    25    Male   29000\n",
       "4    31  Female   25000"
      ]
     },
     "execution_count": 4,
     "metadata": {},
     "output_type": "execute_result"
    }
   ],
   "source": [
    "df"
   ]
  },
  {
   "cell_type": "markdown",
   "metadata": {
    "colab_type": "text",
    "id": "RJ3bceWEuffj"
   },
   "source": [
    "<div style=\"direction:rtl;text-align:right\">\n",
    "في حالات أخرى، قد تحتاج إلى تعبئة هذه القيم ليتم قراءة الملف بشكل صحيح."
   ]
  },
  {
   "cell_type": "markdown",
   "metadata": {
    "colab_type": "text",
    "id": "ieL8nHV_uffk"
   },
   "source": [
    "<div style=\"direction:rtl;text-align:right\">\n",
    "كيف نتأكد الآن أن الملف تمت قراءته بشكل صحيح؟ سنتأكد من نوع البيانات كما هو في باندا. لذلك سنقوم بعمل التالي:"
   ]
  },
  {
   "cell_type": "code",
   "execution_count": 5,
   "metadata": {
    "colab": {},
    "colab_type": "code",
    "id": "KyI1nsuHuffl",
    "outputId": "60a465aa-7f63-4016-8146-a660654313d0"
   },
   "outputs": [
    {
     "name": "stdout",
     "output_type": "stream",
     "text": [
      "<class 'pandas.core.frame.DataFrame'>\n",
      "Int64Index: 4 entries, 1 to 4\n",
      "Data columns (total 3 columns):\n",
      "age       4 non-null int64\n",
      "sex       4 non-null object\n",
      "income    4 non-null int64\n",
      "dtypes: int64(2), object(1)\n",
      "memory usage: 128.0+ bytes\n"
     ]
    }
   ],
   "source": [
    "df.info()"
   ]
  },
  {
   "cell_type": "markdown",
   "metadata": {
    "colab_type": "text",
    "id": "75kYdCMMuffr"
   },
   "source": [
    "<div style=\"direction:rtl;text-align:right\">\n",
    "Age - 4 non-null - int64: <br>\n",
    "تعني أن العمود الأول اسمه age، ويوجد به 4 قيم غير مفقودة، وكلها من نوع int64.\n",
    "أما بالنسبة للsex فهو من نوع  object وهي صيغة يستخدمها باندا لوصف البيانات النصية. هنا نستطيع أن نقول أن البيانات العددية قرئت بشكل صحيح وكذلك الأمر بالنسبة للبيانات النصية."
   ]
  },
  {
   "cell_type": "markdown",
   "metadata": {
    "colab_type": "text",
    "id": "LYTEJeJXufft"
   },
   "source": [
    "<div style=\"direction:rtl;text-align:right\">\n",
    "\n",
    "## ملفات Excel"
   ]
  },
  {
   "cell_type": "markdown",
   "metadata": {
    "colab_type": "text",
    "id": "zsvUlYeYuffu"
   },
   "source": [
    "<div style=\"direction:rtl;text-align:right\">\n",
    "لقراءة ملفات أكسل، نستخدم الأمر pd.read_excel بكل بساطة. ولكن تأكد أن الجدول داخل الملف منظم بشكل يسهل قراءته. بدون أي فراغات أو جداول عرضية في وسط الملف. "
   ]
  },
  {
   "cell_type": "code",
   "execution_count": 9,
   "metadata": {
    "colab": {},
    "colab_type": "code",
    "id": "vOjvwwWUuffv"
   },
   "outputs": [],
   "source": [
    "df = pd.read_excel('data_excel.xlsx')"
   ]
  },
  {
   "cell_type": "code",
   "execution_count": 10,
   "metadata": {
    "colab": {},
    "colab_type": "code",
    "id": "LZqhdcK5uff1",
    "outputId": "bf460008-4bc5-4984-dcf8-9b37d468030e"
   },
   "outputs": [
    {
     "data": {
      "text/html": [
       "<div>\n",
       "<style scoped>\n",
       "    .dataframe tbody tr th:only-of-type {\n",
       "        vertical-align: middle;\n",
       "    }\n",
       "\n",
       "    .dataframe tbody tr th {\n",
       "        vertical-align: top;\n",
       "    }\n",
       "\n",
       "    .dataframe thead th {\n",
       "        text-align: right;\n",
       "    }\n",
       "</style>\n",
       "<table border=\"1\" class=\"dataframe\">\n",
       "  <thead>\n",
       "    <tr style=\"text-align: right;\">\n",
       "      <th></th>\n",
       "      <th>Year</th>\n",
       "      <th>Value</th>\n",
       "      <th>Name</th>\n",
       "    </tr>\n",
       "  </thead>\n",
       "  <tbody>\n",
       "    <tr>\n",
       "      <th>0</th>\n",
       "      <td>2000</td>\n",
       "      <td>100</td>\n",
       "      <td>Rajih</td>\n",
       "    </tr>\n",
       "    <tr>\n",
       "      <th>1</th>\n",
       "      <td>2001</td>\n",
       "      <td>150</td>\n",
       "      <td>Saqr</td>\n",
       "    </tr>\n",
       "    <tr>\n",
       "      <th>2</th>\n",
       "      <td>2002</td>\n",
       "      <td>130</td>\n",
       "      <td>Asma</td>\n",
       "    </tr>\n",
       "    <tr>\n",
       "      <th>3</th>\n",
       "      <td>2003</td>\n",
       "      <td>50</td>\n",
       "      <td>Saqr</td>\n",
       "    </tr>\n",
       "    <tr>\n",
       "      <th>4</th>\n",
       "      <td>2004</td>\n",
       "      <td>170</td>\n",
       "      <td>Ahmed</td>\n",
       "    </tr>\n",
       "    <tr>\n",
       "      <th>5</th>\n",
       "      <td>2005</td>\n",
       "      <td>150</td>\n",
       "      <td>Norah</td>\n",
       "    </tr>\n",
       "    <tr>\n",
       "      <th>6</th>\n",
       "      <td>2006</td>\n",
       "      <td>160</td>\n",
       "      <td>Gazi</td>\n",
       "    </tr>\n",
       "    <tr>\n",
       "      <th>7</th>\n",
       "      <td>2007</td>\n",
       "      <td>190</td>\n",
       "      <td>Saber</td>\n",
       "    </tr>\n",
       "  </tbody>\n",
       "</table>\n",
       "</div>"
      ],
      "text/plain": [
       "   Year  Value   Name\n",
       "0  2000    100  Rajih\n",
       "1  2001    150   Saqr\n",
       "2  2002    130   Asma\n",
       "3  2003     50   Saqr\n",
       "4  2004    170  Ahmed\n",
       "5  2005    150  Norah\n",
       "6  2006    160   Gazi\n",
       "7  2007    190  Saber"
      ]
     },
     "execution_count": 10,
     "metadata": {},
     "output_type": "execute_result"
    }
   ],
   "source": [
    "df"
   ]
  },
  {
   "cell_type": "markdown",
   "metadata": {
    "colab_type": "text",
    "id": "YsNmOXOVuff8"
   },
   "source": [
    "<div style=\"direction:rtl;text-align:right\">\n",
    "\n",
    "## ملفات json"
   ]
  },
  {
   "cell_type": "markdown",
   "metadata": {
    "colab_type": "text",
    "id": "ZYJ4hI0yuff9"
   },
   "source": [
    "<div style=\"direction:rtl;text-align:right\">\n",
    "ملفات json شائعة الاستخدام في الكثير من المواقع والخدمات الالكترونية كواجهات برمجية API. الواجهات البرمجية هي الطريقة التي تتحدث بها برمجياً مع تلك المواقع. فمثلاً، لو أردنا سحب التغريدات من تويتر، فكل النتائج تأتي على شكل ملف json وهكذا مع خدمات قوقل وغيرها كما سنرى في الأسابيع القادمة. قبل أن نستعرض كيف نقرأ الواجهات البرمجية، لنرى كيف يبدو ملف json بسيط جداً:"
   ]
  },
  {
   "cell_type": "markdown",
   "metadata": {
    "colab_type": "text",
    "id": "ujlXdPTIuff-"
   },
   "source": [
    "{\"Tweet 1\":  {\"text\":\"I am having a good day\",  \"username\":\"happy\"}, <br>\n",
    " \"Tweet 2\":  {\"text\":\"I am having a bad day\",  \"username\":\"sad\"}}'"
   ]
  },
  {
   "cell_type": "markdown",
   "metadata": {
    "colab_type": "text",
    "id": "--eZruyOuff_"
   },
   "source": [
    "<div style=\"direction:rtl;text-align:right\">\n",
    "كما نرى فالملف شبيه إلى حد ما ب Dictionary في بايثون. يتكون الجيسون من عدة أجزاء متكررة، في كل جزء، لدينا مفتاح/اسم خاص به (مثل كلمة \"Tweet 1\" أو \"Tweet 2\") متبوعاً بنقطتي فوق بعض: ثم بعد ذلك إما أن نجد قيمة معينة مباشرة، أو نجد دكشنري آخر فيها معلومات أكثر. في المثال أعلاه، نجد أن لدينا دكشنري فيه معلومتين: \"text\" و \"username\". لاحظ أن نمط التسمية داخل الملفات في كل تغريدة موحد. أخيراً، لاحظ أننا نفصل جميع السجلات بفاصلة."
   ]
  },
  {
   "cell_type": "code",
   "execution_count": 11,
   "metadata": {
    "colab": {},
    "colab_type": "code",
    "id": "uMCdT7oZufgA",
    "outputId": "374ee353-f0b8-45b9-ddde-15d44bc96165"
   },
   "outputs": [
    {
     "data": {
      "text/html": [
       "<div>\n",
       "<style scoped>\n",
       "    .dataframe tbody tr th:only-of-type {\n",
       "        vertical-align: middle;\n",
       "    }\n",
       "\n",
       "    .dataframe tbody tr th {\n",
       "        vertical-align: top;\n",
       "    }\n",
       "\n",
       "    .dataframe thead th {\n",
       "        text-align: right;\n",
       "    }\n",
       "</style>\n",
       "<table border=\"1\" class=\"dataframe\">\n",
       "  <thead>\n",
       "    <tr style=\"text-align: right;\">\n",
       "      <th></th>\n",
       "      <th>Tweet 1</th>\n",
       "      <th>Tweet 2</th>\n",
       "    </tr>\n",
       "  </thead>\n",
       "  <tbody>\n",
       "    <tr>\n",
       "      <th>text</th>\n",
       "      <td>I am having a good day</td>\n",
       "      <td>Today is bad</td>\n",
       "    </tr>\n",
       "    <tr>\n",
       "      <th>username</th>\n",
       "      <td>happy</td>\n",
       "      <td>sad</td>\n",
       "    </tr>\n",
       "  </tbody>\n",
       "</table>\n",
       "</div>"
      ],
      "text/plain": [
       "                         Tweet 1       Tweet 2\n",
       "text      I am having a good day  Today is bad\n",
       "username                   happy           sad"
      ]
     },
     "execution_count": 11,
     "metadata": {},
     "output_type": "execute_result"
    }
   ],
   "source": [
    "pd.read_json('data.json')"
   ]
  },
  {
   "cell_type": "markdown",
   "metadata": {
    "colab_type": "text",
    "id": "WnfRSE-WufgG"
   },
   "source": [
    "<div style=\"direction:rtl;text-align:right\">\n",
    "\n",
    "## اكتشاف البيانات الأولي (Exploratory Data Analysis)"
   ]
  },
  {
   "cell_type": "markdown",
   "metadata": {
    "colab_type": "text",
    "id": "EAMtHa3uufgH"
   },
   "source": [
    "<div style=\"direction:rtl;text-align:right\">\n",
    "في هذا الدرس، سوف نقوم بقراءة بيانات حقيقية ونرى سوية كيف يمكن اكتشاف هذه البيانات وتنظيفها وتهيئتها للرسومات البيانية. قبل أن نبدأ أحب أن أؤكد على ملاحظة مهمة وهي أننا حينما نتحدث عن مراحل تحليل البيانات، نعتقد أن هذه خطوات متسلسلة على مراحل مثل عملية غسيل الملابس. أولاً ثانياً ثالثاً. لكن الواقع هو أنها عملية تفاعلية لا تتبع خطوات محددة. فلتنظيف البيانات، سنضطر لاستخدام الرسم البياني. والرسم البياني سيوضح لنا مكامن الخلل أو القيم الشاذة والتي تضطرنا للعودة إلى خطوة تنظيف البيانات وإجراء المزيد من الخطوات وهكذا."
   ]
  },
  {
   "cell_type": "markdown",
   "metadata": {
    "colab_type": "text",
    "id": "9x26v3Q6ufgJ"
   },
   "source": [
    "<div style=\"direction:rtl;text-align:right\">\n",
    "بشكل عام حين نتحدث عن تنظيف البيانات، فنحن نتحدث عن عدة أمور أساسية سأبرزها في القائمة التالية:\n",
    "    <br>\n",
    "    1-تعديل الصيغ: وهذه العملية تعني أن نتأكد أن الأعمدة الرقمية تم قراءتها كما هو مطلوب،  وأعمدة النصوص تمت قراءتها بشكل نصوص، وأعمدة التاريخ أو الوقت تمت قراءتها بالشكل المطلوب وهكذا. هذه الخطوة ربما هي الخطوة الأهم لأن كل الخطوات والتحليلات اللاحقة ستكون مبنية على هذه الخطوة.\n",
    "    <br>\n",
    "    2- ملء البيانات المفقودة: في هذه الخطوة سوف نبحث عن البيانات المفقودة (Missing Values) ونقرر ماذا سنعمل بشأنها. هناك العديد من الطرق للتعامل مع البيانات المفقودة وسأتحدث عنها لاحقاً.\n",
    "    <br>\n",
    "    3- تصحيح البيانات الخاطئة: في هذه الخطوة نبحث عن الأخطاء الواضحة في البيانات. مثلاً لو كان لدينا عمود للعمر، ووجدنا قيمة 500 أو قيم سالبة. وهنا يمكن أن نعتبر هذه البيانات مفقودة ومن ثم علينا تصحيحها.\n",
    "    <br>\n",
    "    4- توحيد القيم: قد نضطر للتعامل مع هذه الخطوة في حال كانت القيم مدخلة بشكل يدوي وبشكل غير متسق. فمثلا، لو كان لدينا عمود للشهر ووجدنا القيم التالية: \"فبراير، Feburary, 2\". كل هذه القيم تعطي نفس المعلومة لكن القيم مختلفة ولابد من توحيدها قبل أن نشرع في المزيد من الخطوات.\n",
    "    <br>\n",
    "    5- .."
   ]
  },
  {
   "cell_type": "markdown",
   "metadata": {
    "colab_type": "text",
    "id": "c-aqIEchufgK"
   },
   "source": [
    "<div style=\"direction:rtl;text-align:right\">\n",
    "بشكل عام، هناك أربع معايير لابد أن نأخذها بالاعتبار حين نقوم بتنظيف البيانات: Tidy"
   ]
  },
  {
   "cell_type": "markdown",
   "metadata": {
    "colab_type": "text",
    "id": "jQine36_ufgL"
   },
   "source": [
    "<div style=\"direction:rtl;text-align:right\">\n",
    "سنبدأ العمل مع بيانات التأمين في أمريكا حيث يوضح الجدول ماهي أبرز الأمراض المكلفة مع البيانات المتعلقة بها. أدعوك لزيارة الرابط التالي لمعرفة المزيد عن البيانات:"
   ]
  },
  {
   "cell_type": "markdown",
   "metadata": {},
   "source": [
    "- https://www.kaggle.com/speedoheck/inpatient-hospital-charges"
   ]
  },
  {
   "cell_type": "code",
   "execution_count": 17,
   "metadata": {
    "colab": {},
    "colab_type": "code",
    "id": "s6sC0AHDufgS"
   },
   "outputs": [],
   "source": [
    "import pandas as pd\n",
    "import seaborn as sns\n",
    "import numpy as np\n",
    "%matplotlib inline"
   ]
  },
  {
   "cell_type": "code",
   "execution_count": 18,
   "metadata": {
    "colab": {},
    "colab_type": "code",
    "id": "M47hMB9qufgl"
   },
   "outputs": [],
   "source": [
    "df = pd.read_csv('inpatientCharges.csv', index_col=None)"
   ]
  },
  {
   "cell_type": "code",
   "execution_count": 19,
   "metadata": {
    "colab": {},
    "colab_type": "code",
    "id": "05xcrKL9ufgr",
    "outputId": "2c9c9e0a-d3e2-4fb3-98df-1af9288063d2"
   },
   "outputs": [
    {
     "data": {
      "text/html": [
       "<div>\n",
       "<style scoped>\n",
       "    .dataframe tbody tr th:only-of-type {\n",
       "        vertical-align: middle;\n",
       "    }\n",
       "\n",
       "    .dataframe tbody tr th {\n",
       "        vertical-align: top;\n",
       "    }\n",
       "\n",
       "    .dataframe thead th {\n",
       "        text-align: right;\n",
       "    }\n",
       "</style>\n",
       "<table border=\"1\" class=\"dataframe\">\n",
       "  <thead>\n",
       "    <tr style=\"text-align: right;\">\n",
       "      <th></th>\n",
       "      <th>DRG Definition</th>\n",
       "      <th>Provider Id</th>\n",
       "      <th>Provider Name</th>\n",
       "      <th>Provider Street Address</th>\n",
       "      <th>Provider City</th>\n",
       "      <th>Provider State</th>\n",
       "      <th>Provider Zip Code</th>\n",
       "      <th>Hospital Referral Region Description</th>\n",
       "      <th>Total Discharges</th>\n",
       "      <th>Average Covered Charges</th>\n",
       "      <th>Average Total Payments</th>\n",
       "      <th>Average Medicare Payments</th>\n",
       "    </tr>\n",
       "  </thead>\n",
       "  <tbody>\n",
       "    <tr>\n",
       "      <th>0</th>\n",
       "      <td>039 - EXTRACRANIAL PROCEDURES W/O CC/MCC</td>\n",
       "      <td>10001</td>\n",
       "      <td>SOUTHEAST ALABAMA MEDICAL CENTER</td>\n",
       "      <td>1108 ROSS CLARK CIRCLE</td>\n",
       "      <td>DOTHAN</td>\n",
       "      <td>AL</td>\n",
       "      <td>36301</td>\n",
       "      <td>AL - Dothan</td>\n",
       "      <td>91</td>\n",
       "      <td>$32963.07</td>\n",
       "      <td>$5777.24</td>\n",
       "      <td>$4763.73</td>\n",
       "    </tr>\n",
       "    <tr>\n",
       "      <th>1</th>\n",
       "      <td>039 - EXTRACRANIAL PROCEDURES W/O CC/MCC</td>\n",
       "      <td>10005</td>\n",
       "      <td>MARSHALL MEDICAL CENTER SOUTH</td>\n",
       "      <td>2505 U S HIGHWAY 431 NORTH</td>\n",
       "      <td>BOAZ</td>\n",
       "      <td>AL</td>\n",
       "      <td>35957</td>\n",
       "      <td>AL - Birmingham</td>\n",
       "      <td>14</td>\n",
       "      <td>$15131.85</td>\n",
       "      <td>$5787.57</td>\n",
       "      <td>$4976.71</td>\n",
       "    </tr>\n",
       "    <tr>\n",
       "      <th>2</th>\n",
       "      <td>039 - EXTRACRANIAL PROCEDURES W/O CC/MCC</td>\n",
       "      <td>10006</td>\n",
       "      <td>ELIZA COFFEE MEMORIAL HOSPITAL</td>\n",
       "      <td>205 MARENGO STREET</td>\n",
       "      <td>FLORENCE</td>\n",
       "      <td>AL</td>\n",
       "      <td>35631</td>\n",
       "      <td>AL - Birmingham</td>\n",
       "      <td>24</td>\n",
       "      <td>$37560.37</td>\n",
       "      <td>$5434.95</td>\n",
       "      <td>$4453.79</td>\n",
       "    </tr>\n",
       "    <tr>\n",
       "      <th>3</th>\n",
       "      <td>039 - EXTRACRANIAL PROCEDURES W/O CC/MCC</td>\n",
       "      <td>10011</td>\n",
       "      <td>ST VINCENT'S EAST</td>\n",
       "      <td>50 MEDICAL PARK EAST DRIVE</td>\n",
       "      <td>BIRMINGHAM</td>\n",
       "      <td>AL</td>\n",
       "      <td>35235</td>\n",
       "      <td>AL - Birmingham</td>\n",
       "      <td>25</td>\n",
       "      <td>$13998.28</td>\n",
       "      <td>$5417.56</td>\n",
       "      <td>$4129.16</td>\n",
       "    </tr>\n",
       "    <tr>\n",
       "      <th>4</th>\n",
       "      <td>039 - EXTRACRANIAL PROCEDURES W/O CC/MCC</td>\n",
       "      <td>10016</td>\n",
       "      <td>SHELBY BAPTIST MEDICAL CENTER</td>\n",
       "      <td>1000 FIRST STREET NORTH</td>\n",
       "      <td>ALABASTER</td>\n",
       "      <td>AL</td>\n",
       "      <td>35007</td>\n",
       "      <td>AL - Birmingham</td>\n",
       "      <td>18</td>\n",
       "      <td>$31633.27</td>\n",
       "      <td>$5658.33</td>\n",
       "      <td>$4851.44</td>\n",
       "    </tr>\n",
       "  </tbody>\n",
       "</table>\n",
       "</div>"
      ],
      "text/plain": [
       "                             DRG Definition  Provider Id  \\\n",
       "0  039 - EXTRACRANIAL PROCEDURES W/O CC/MCC        10001   \n",
       "1  039 - EXTRACRANIAL PROCEDURES W/O CC/MCC        10005   \n",
       "2  039 - EXTRACRANIAL PROCEDURES W/O CC/MCC        10006   \n",
       "3  039 - EXTRACRANIAL PROCEDURES W/O CC/MCC        10011   \n",
       "4  039 - EXTRACRANIAL PROCEDURES W/O CC/MCC        10016   \n",
       "\n",
       "                      Provider Name     Provider Street Address Provider City  \\\n",
       "0  SOUTHEAST ALABAMA MEDICAL CENTER      1108 ROSS CLARK CIRCLE        DOTHAN   \n",
       "1     MARSHALL MEDICAL CENTER SOUTH  2505 U S HIGHWAY 431 NORTH          BOAZ   \n",
       "2    ELIZA COFFEE MEMORIAL HOSPITAL          205 MARENGO STREET      FLORENCE   \n",
       "3                 ST VINCENT'S EAST  50 MEDICAL PARK EAST DRIVE    BIRMINGHAM   \n",
       "4     SHELBY BAPTIST MEDICAL CENTER     1000 FIRST STREET NORTH     ALABASTER   \n",
       "\n",
       "  Provider State  Provider Zip Code Hospital Referral Region Description  \\\n",
       "0             AL              36301                          AL - Dothan   \n",
       "1             AL              35957                      AL - Birmingham   \n",
       "2             AL              35631                      AL - Birmingham   \n",
       "3             AL              35235                      AL - Birmingham   \n",
       "4             AL              35007                      AL - Birmingham   \n",
       "\n",
       "    Total Discharges   Average Covered Charges   Average Total Payments   \\\n",
       "0                  91                 $32963.07                 $5777.24   \n",
       "1                  14                 $15131.85                 $5787.57   \n",
       "2                  24                 $37560.37                 $5434.95   \n",
       "3                  25                 $13998.28                 $5417.56   \n",
       "4                  18                 $31633.27                 $5658.33   \n",
       "\n",
       "  Average Medicare Payments  \n",
       "0                  $4763.73  \n",
       "1                  $4976.71  \n",
       "2                  $4453.79  \n",
       "3                  $4129.16  \n",
       "4                  $4851.44  "
      ]
     },
     "execution_count": 19,
     "metadata": {},
     "output_type": "execute_result"
    }
   ],
   "source": [
    "df.head()"
   ]
  },
  {
   "cell_type": "code",
   "execution_count": 20,
   "metadata": {
    "colab": {},
    "colab_type": "code",
    "id": "py5D8EMnufgw",
    "outputId": "955faf49-05c9-4b16-8699-52da4d864f9d"
   },
   "outputs": [
    {
     "name": "stdout",
     "output_type": "stream",
     "text": [
      "<class 'pandas.core.frame.DataFrame'>\n",
      "RangeIndex: 163065 entries, 0 to 163064\n",
      "Data columns (total 12 columns):\n",
      "DRG Definition                          163065 non-null object\n",
      "Provider Id                             163065 non-null int64\n",
      "Provider Name                           163065 non-null object\n",
      "Provider Street Address                 163065 non-null object\n",
      "Provider City                           163065 non-null object\n",
      "Provider State                          163065 non-null object\n",
      "Provider Zip Code                       163065 non-null int64\n",
      "Hospital Referral Region Description    163065 non-null object\n",
      " Total Discharges                       163065 non-null int64\n",
      " Average Covered Charges                163065 non-null object\n",
      " Average Total Payments                 163065 non-null object\n",
      "Average Medicare Payments               163065 non-null object\n",
      "dtypes: int64(3), object(9)\n",
      "memory usage: 14.9+ MB\n"
     ]
    }
   ],
   "source": [
    "df.info()"
   ]
  },
  {
   "cell_type": "markdown",
   "metadata": {
    "colab_type": "text",
    "id": "0AQA5O1Xufg1"
   },
   "source": [
    "<div style=\"direction:rtl;text-align:right\">\n",
    "ماهو أول ما يخطر لديك من المشاكل أو الأمور التي تحتاج إلى تطوير ؟"
   ]
  },
  {
   "cell_type": "markdown",
   "metadata": {
    "colab_type": "text",
    "id": "U1z7QIMnufg2"
   },
   "source": [
    "<div style=\"direction:rtl;text-align:right\">\n",
    "    \n",
    "### لنبدأ بأسماء الأعمدة "
   ]
  },
  {
   "cell_type": "code",
   "execution_count": 21,
   "metadata": {
    "colab": {},
    "colab_type": "code",
    "id": "H51quxokufg3",
    "outputId": "2c7b7c91-2d8f-497b-c64e-0e09bc620f94"
   },
   "outputs": [
    {
     "data": {
      "text/plain": [
       "Index(['DRG Definition', 'Provider Id', 'Provider Name',\n",
       "       'Provider Street Address', 'Provider City', 'Provider State',\n",
       "       'Provider Zip Code', 'Hospital Referral Region Description',\n",
       "       ' Total Discharges ', ' Average Covered Charges ',\n",
       "       ' Average Total Payments ', 'Average Medicare Payments'],\n",
       "      dtype='object')"
      ]
     },
     "execution_count": 21,
     "metadata": {},
     "output_type": "execute_result"
    }
   ],
   "source": [
    "df.columns"
   ]
  },
  {
   "cell_type": "markdown",
   "metadata": {
    "colab_type": "text",
    "id": "aYiPDe7Yufg8"
   },
   "source": [
    "<div style=\"direction:rtl;text-align:right\">\n",
    "نلاحظ أن بعض أسماء الأعمدة تنتهي بمسافة وهذا سيجعل من استدعائها لاحقاً أمر مقلق. لنبدأ بتعديل أسماء الأعمدة."
   ]
  },
  {
   "cell_type": "markdown",
   "metadata": {
    "colab_type": "text",
    "id": "NFcC3MTDufg9"
   },
   "source": [
    "<div style=\"direction:rtl;text-align:right\">\n",
    "لحذف المسافات، نقوم باستدعاء الأعمدة أولاً (columns) وهذا سوف يعطينا قائمة بأسماء الأعمدة، ثم نقوم باستدعاء أمر str.strip() وهذا الأمر يقوم بحذف المسافات في بداية أو نهاية النص."
   ]
  },
  {
   "cell_type": "code",
   "execution_count": 22,
   "metadata": {
    "colab": {},
    "colab_type": "code",
    "id": "NIQ_3tuqufg-",
    "outputId": "454626fc-434e-4afd-a77c-2024db29a279"
   },
   "outputs": [
    {
     "data": {
      "text/plain": [
       "Index(['DRG Definition', 'Provider Id', 'Provider Name',\n",
       "       'Provider Street Address', 'Provider City', 'Provider State',\n",
       "       'Provider Zip Code', 'Hospital Referral Region Description',\n",
       "       'Total Discharges', 'Average Covered Charges', 'Average Total Payments',\n",
       "       'Average Medicare Payments'],\n",
       "      dtype='object')"
      ]
     },
     "execution_count": 22,
     "metadata": {},
     "output_type": "execute_result"
    }
   ],
   "source": [
    "# see the result first..\n",
    "df.columns.str.strip()"
   ]
  },
  {
   "cell_type": "code",
   "execution_count": 23,
   "metadata": {
    "colab": {},
    "colab_type": "code",
    "id": "M88o8WOGufhD"
   },
   "outputs": [],
   "source": [
    "# now rename columns\n",
    "df.columns = df.columns.str.strip()"
   ]
  },
  {
   "cell_type": "markdown",
   "metadata": {
    "colab_type": "text",
    "id": "-plYAvz-ufhH"
   },
   "source": [
    "<div style=\"direction:rtl;text-align:right\">\n",
    "    \n",
    "### تعديل الصيغ "
   ]
  },
  {
   "cell_type": "markdown",
   "metadata": {
    "colab_type": "text",
    "id": "1H_93m7WufhI"
   },
   "source": [
    "<div style=\"direction:rtl;text-align:right\">\n",
    "نلاحظ أن القيم المالية تم قراءتها في باندا على أنها object - أي ملف قد يكون نصي- ولكن الحقيقة أن لدينا بيانات رقمية. فهنا لدينا ثلاثة أعمدة بحاجة إلى تعديل: Average Covered Charages, Average Total Payments \n",
    "    <br>"
   ]
  },
  {
   "cell_type": "markdown",
   "metadata": {
    "colab_type": "text",
    "id": "iNCNfweWufhK"
   },
   "source": [
    "<div style=\"direction:rtl;text-align:right\">\n",
    "    لتعديل هذه الصيغ، سنقوم بحذف علامة \"$\" فقط ونتأكد أن الأعمدة تم قراءتها بشكل رقمي (numeric). "
   ]
  },
  {
   "cell_type": "code",
   "execution_count": 24,
   "metadata": {
    "colab": {},
    "colab_type": "code",
    "id": "qXSee7NcufhM",
    "outputId": "59d1cc2a-92ad-4b5e-dfee-e79a092748bb"
   },
   "outputs": [
    {
     "data": {
      "text/plain": [
       "0    $4763.73\n",
       "1    $4976.71\n",
       "2    $4453.79\n",
       "3    $4129.16\n",
       "4    $4851.44\n",
       "Name: Average Medicare Payments, dtype: object"
      ]
     },
     "execution_count": 24,
     "metadata": {},
     "output_type": "execute_result"
    }
   ],
   "source": [
    "# data before cleaning the $ mark\n",
    "df['Average Medicare Payments'].head()"
   ]
  },
  {
   "cell_type": "code",
   "execution_count": 25,
   "metadata": {
    "colab": {},
    "colab_type": "code",
    "id": "cNee9TdMufhR",
    "outputId": "721d7c83-fec2-4c25-ae05-1e0a5d2274c0"
   },
   "outputs": [
    {
     "data": {
      "text/plain": [
       "0    4763.73\n",
       "1    4976.71\n",
       "2    4453.79\n",
       "3    4129.16\n",
       "4    4851.44\n",
       "Name: Average Medicare Payments, dtype: float64"
      ]
     },
     "execution_count": 25,
     "metadata": {},
     "output_type": "execute_result"
    }
   ],
   "source": [
    "# after removing the $ mark, but note this still not saved\n",
    "pd.to_numeric(df['Average Medicare Payments'].str.replace('$', '').head() )"
   ]
  },
  {
   "cell_type": "code",
   "execution_count": 26,
   "metadata": {
    "colab": {},
    "colab_type": "code",
    "id": "RDCtiI9pufhY"
   },
   "outputs": [],
   "source": [
    "# now we edit\n",
    "df['Average Medicare Payments']  = pd.to_numeric( df['Average Medicare Payments'].str.replace('$', '') ) "
   ]
  },
  {
   "cell_type": "code",
   "execution_count": 27,
   "metadata": {
    "colab": {},
    "colab_type": "code",
    "id": "47ykZBjzufhe",
    "outputId": "a13fcef4-ecd4-49c7-c5ef-1e07bb43adf2"
   },
   "outputs": [
    {
     "data": {
      "text/plain": [
       "0    4763.73\n",
       "1    4976.71\n",
       "2    4453.79\n",
       "3    4129.16\n",
       "4    4851.44\n",
       "Name: Average Medicare Payments, dtype: float64"
      ]
     },
     "execution_count": 27,
     "metadata": {},
     "output_type": "execute_result"
    }
   ],
   "source": [
    "# now we are good to go!\n",
    "df['Average Medicare Payments'].head()"
   ]
  },
  {
   "cell_type": "code",
   "execution_count": 28,
   "metadata": {
    "colab": {},
    "colab_type": "code",
    "id": "LhsEtwLUufhj"
   },
   "outputs": [],
   "source": [
    "# do the same with the other columns\n",
    "df['Average Covered Charges']  = pd.to_numeric( df['Average Covered Charges'].str.replace('$', '') ) \n",
    "df['Average Total Payments']  = pd.to_numeric( df['Average Total Payments'].str.replace('$', '') ) "
   ]
  },
  {
   "cell_type": "markdown",
   "metadata": {
    "colab_type": "text",
    "id": "JxXAXcI6ufhw"
   },
   "source": [
    "<div style=\"direction:rtl;text-align:right\">\n",
    "هل هناك طرق أخرى لإجراء ذات الأمر؟ <br>\n",
    "نستطيع استخدام الأمر astype() بدلاً عن pd.to_numeric. فمثلاً سيقوم الأمر التالي بتحويل أي رقم تم قراءته بشكل نصي إلى بيانات رقمية: <br>\n",
    "\n",
    "<div style=\"direction:ltr;text-align:right\">\n",
    "    astype(float) <br>\n",
    "    astype(np.float) <br>\n",
    "    astype(pd.float)"
   ]
  },
  {
   "cell_type": "code",
   "execution_count": 29,
   "metadata": {
    "colab": {},
    "colab_type": "code",
    "id": "BibECY3Iufh3"
   },
   "outputs": [],
   "source": [
    "#df['Average Total Payments'].str.replace('$', '').astype(float)"
   ]
  },
  {
   "cell_type": "markdown",
   "metadata": {
    "colab_type": "text",
    "id": "rAQ64nzYufh9"
   },
   "source": [
    "<div style=\"direction:rtl;text-align:right\">\n",
    "    وبما أننا تعرفنا من قبل على طريقة عمل الfor-loop، فيمكننا استخدام هذا الأمر لإجراء تعديل على عدة أعمدة. سنقوم بإعادة عمل التعديل على عدة أعمدة بهذه الطريقة. الخانة أدناه لن تعمل بالطبع لأننا عدلنا البيانات ولكن تستطيع أن تتأكد من عملها بإعادة الدرس من البداية وتجاوز الخانات أعلاه."
   ]
  },
  {
   "cell_type": "code",
   "execution_count": 30,
   "metadata": {
    "colab": {},
    "colab_type": "code",
    "id": "BpvUKkYvufh-"
   },
   "outputs": [],
   "source": [
    "# names_to_change = ['Average Medicare Payments','Average Covered Charges','Average Total Payments']\n",
    "# for col in names_to_change:\n",
    "#     df[col]  = pd.to_numeric( df[col].str.replace('$', '') ) "
   ]
  },
  {
   "cell_type": "code",
   "execution_count": 31,
   "metadata": {
    "colab": {},
    "colab_type": "code",
    "id": "mq-_FAl-ufiF",
    "outputId": "397cb773-e68a-41b8-f936-20315294eb71",
    "scrolled": true
   },
   "outputs": [
    {
     "name": "stdout",
     "output_type": "stream",
     "text": [
      "<class 'pandas.core.frame.DataFrame'>\n",
      "RangeIndex: 163065 entries, 0 to 163064\n",
      "Data columns (total 12 columns):\n",
      "DRG Definition                          163065 non-null object\n",
      "Provider Id                             163065 non-null int64\n",
      "Provider Name                           163065 non-null object\n",
      "Provider Street Address                 163065 non-null object\n",
      "Provider City                           163065 non-null object\n",
      "Provider State                          163065 non-null object\n",
      "Provider Zip Code                       163065 non-null int64\n",
      "Hospital Referral Region Description    163065 non-null object\n",
      "Total Discharges                        163065 non-null int64\n",
      "Average Covered Charges                 163065 non-null float64\n",
      "Average Total Payments                  163065 non-null float64\n",
      "Average Medicare Payments               163065 non-null float64\n",
      "dtypes: float64(3), int64(3), object(6)\n",
      "memory usage: 14.9+ MB\n"
     ]
    }
   ],
   "source": [
    "df.info()"
   ]
  },
  {
   "cell_type": "markdown",
   "metadata": {
    "colab_type": "text",
    "id": "ga1P7AlkufiQ"
   },
   "source": [
    "<div style=\"direction:rtl;text-align:right\">\n",
    "يبدو أن المهمة الأولى تمت بنجاح لأن أمام الثلاثة أعمدة التي سبق وأن عدلناها نجد \n",
    "non-null float64"
   ]
  },
  {
   "cell_type": "markdown",
   "metadata": {
    "colab_type": "text",
    "id": "0rSUoM6qufiR"
   },
   "source": [
    "<div style=\"direction:rtl;text-align:right\">\n",
    "    \n",
    "### ملء البيانات المفقودة "
   ]
  },
  {
   "cell_type": "markdown",
   "metadata": {
    "colab_type": "text",
    "id": "iVUB4WovufiS"
   },
   "source": [
    "<div style=\"direction:rtl;text-align:right\">\n",
    "بالرغم من أن أمر df.info() أعلاه يخبرنا أنه لاتوجد بيانات مفقودة، حيث أن عدد المدخلات 163065 نجده في كل عمود، إلا أننا نستطيع أن نختار بعض الصفوف ونحذف بياناتها لنرى كيف يمكن أن نتعامل معها في حال كاتت البيانات الخام على هذه الحال."
   ]
  },
  {
   "cell_type": "code",
   "execution_count": 32,
   "metadata": {
    "colab": {},
    "colab_type": "code",
    "id": "ddF-E2mzufiT"
   },
   "outputs": [],
   "source": [
    "random_rows = np.random.randint(low=0, high=163065, size=3)"
   ]
  },
  {
   "cell_type": "code",
   "execution_count": 33,
   "metadata": {
    "colab": {},
    "colab_type": "code",
    "id": "XOV6_mpDufiW",
    "outputId": "331acd75-2dbb-443e-b932-ac5a6b56d015"
   },
   "outputs": [
    {
     "data": {
      "text/plain": [
       "array([ 76922,  57902, 123427])"
      ]
     },
     "execution_count": 33,
     "metadata": {},
     "output_type": "execute_result"
    }
   ],
   "source": [
    "random_rows"
   ]
  },
  {
   "cell_type": "code",
   "execution_count": 34,
   "metadata": {
    "colab": {},
    "colab_type": "code",
    "id": "37Eqy9tlufiz",
    "outputId": "999f29c3-4cc6-4e57-e8bd-1e4c8b2314d1"
   },
   "outputs": [
    {
     "data": {
      "text/html": [
       "<div>\n",
       "<style scoped>\n",
       "    .dataframe tbody tr th:only-of-type {\n",
       "        vertical-align: middle;\n",
       "    }\n",
       "\n",
       "    .dataframe tbody tr th {\n",
       "        vertical-align: top;\n",
       "    }\n",
       "\n",
       "    .dataframe thead th {\n",
       "        text-align: right;\n",
       "    }\n",
       "</style>\n",
       "<table border=\"1\" class=\"dataframe\">\n",
       "  <thead>\n",
       "    <tr style=\"text-align: right;\">\n",
       "      <th></th>\n",
       "      <th>DRG Definition</th>\n",
       "      <th>Provider Id</th>\n",
       "      <th>Provider Name</th>\n",
       "      <th>Provider Street Address</th>\n",
       "      <th>Provider City</th>\n",
       "      <th>Provider State</th>\n",
       "      <th>Provider Zip Code</th>\n",
       "      <th>Hospital Referral Region Description</th>\n",
       "      <th>Total Discharges</th>\n",
       "      <th>Average Covered Charges</th>\n",
       "      <th>Average Total Payments</th>\n",
       "      <th>Average Medicare Payments</th>\n",
       "    </tr>\n",
       "  </thead>\n",
       "  <tbody>\n",
       "    <tr>\n",
       "      <th>76922</th>\n",
       "      <td>309 - CARDIAC ARRHYTHMIA &amp; CONDUCTION DISORDER...</td>\n",
       "      <td>380075</td>\n",
       "      <td>PROVIDENCE MEDFORD MEDICAL CENTER</td>\n",
       "      <td>1111 CRATER LAKE AVENUE</td>\n",
       "      <td>MEDFORD</td>\n",
       "      <td>OR</td>\n",
       "      <td>97504</td>\n",
       "      <td>OR - Medford</td>\n",
       "      <td>26</td>\n",
       "      <td>18400.92</td>\n",
       "      <td>5510.65</td>\n",
       "      <td>3872.26</td>\n",
       "    </tr>\n",
       "    <tr>\n",
       "      <th>57902</th>\n",
       "      <td>286 - CIRCULATORY DISORDERS EXCEPT AMI, W CARD...</td>\n",
       "      <td>100038</td>\n",
       "      <td>MEMORIAL REGIONAL HOSPITAL</td>\n",
       "      <td>3501 JOHNSON ST</td>\n",
       "      <td>HOLLYWOOD</td>\n",
       "      <td>FL</td>\n",
       "      <td>33021</td>\n",
       "      <td>FL - Miami</td>\n",
       "      <td>12</td>\n",
       "      <td>63041.58</td>\n",
       "      <td>14457.00</td>\n",
       "      <td>12509.50</td>\n",
       "    </tr>\n",
       "    <tr>\n",
       "      <th>123427</th>\n",
       "      <td>563 - FX, SPRN, STRN &amp; DISL EXCEPT FEMUR, HIP,...</td>\n",
       "      <td>310111</td>\n",
       "      <td>CENTRASTATE MEDICAL CENTER</td>\n",
       "      <td>901 WEST MAIN STREET</td>\n",
       "      <td>FREEHOLD</td>\n",
       "      <td>NJ</td>\n",
       "      <td>7728</td>\n",
       "      <td>NJ - Camden</td>\n",
       "      <td>17</td>\n",
       "      <td>24265.11</td>\n",
       "      <td>4401.00</td>\n",
       "      <td>3542.88</td>\n",
       "    </tr>\n",
       "  </tbody>\n",
       "</table>\n",
       "</div>"
      ],
      "text/plain": [
       "                                           DRG Definition  Provider Id  \\\n",
       "76922   309 - CARDIAC ARRHYTHMIA & CONDUCTION DISORDER...       380075   \n",
       "57902   286 - CIRCULATORY DISORDERS EXCEPT AMI, W CARD...       100038   \n",
       "123427  563 - FX, SPRN, STRN & DISL EXCEPT FEMUR, HIP,...       310111   \n",
       "\n",
       "                            Provider Name  Provider Street Address  \\\n",
       "76922   PROVIDENCE MEDFORD MEDICAL CENTER  1111 CRATER LAKE AVENUE   \n",
       "57902          MEMORIAL REGIONAL HOSPITAL          3501 JOHNSON ST   \n",
       "123427         CENTRASTATE MEDICAL CENTER     901 WEST MAIN STREET   \n",
       "\n",
       "       Provider City Provider State  Provider Zip Code  \\\n",
       "76922        MEDFORD             OR              97504   \n",
       "57902      HOLLYWOOD             FL              33021   \n",
       "123427      FREEHOLD             NJ               7728   \n",
       "\n",
       "       Hospital Referral Region Description  Total Discharges  \\\n",
       "76922                          OR - Medford                26   \n",
       "57902                            FL - Miami                12   \n",
       "123427                          NJ - Camden                17   \n",
       "\n",
       "        Average Covered Charges  Average Total Payments  \\\n",
       "76922                  18400.92                 5510.65   \n",
       "57902                  63041.58                14457.00   \n",
       "123427                 24265.11                 4401.00   \n",
       "\n",
       "        Average Medicare Payments  \n",
       "76922                     3872.26  \n",
       "57902                    12509.50  \n",
       "123427                    3542.88  "
      ]
     },
     "execution_count": 34,
     "metadata": {},
     "output_type": "execute_result"
    }
   ],
   "source": [
    "df.loc[random_rows]"
   ]
  },
  {
   "cell_type": "code",
   "execution_count": 35,
   "metadata": {
    "colab": {},
    "colab_type": "code",
    "id": "L99AkTHWufi3"
   },
   "outputs": [],
   "source": [
    "df.loc[random_rows[0], 'Provider Id'] = np.nan\n",
    "df.loc[random_rows[1], 'Total Discharges'] = np.nan\n",
    "df.loc[random_rows[2], 'Provider Name'] = np.nan"
   ]
  },
  {
   "cell_type": "markdown",
   "metadata": {
    "colab_type": "text",
    "id": "A8dMMEhOufjB"
   },
   "source": [
    "<div style=\"direction:rtl;text-align:right\">\n",
    "بعد أن حذفنا بعض البيانات عمداً واستبدلناها بخانات مفقودة (NaN) سنقوم بإلقاء نظرة أخرى على البيانات لنرى كيف تبدو البيانات المفقودة"
   ]
  },
  {
   "cell_type": "code",
   "execution_count": 36,
   "metadata": {
    "colab": {},
    "colab_type": "code",
    "id": "KH12AVHoufjB",
    "outputId": "a34a5e64-b086-4095-89d6-03a566075040"
   },
   "outputs": [
    {
     "data": {
      "text/html": [
       "<div>\n",
       "<style scoped>\n",
       "    .dataframe tbody tr th:only-of-type {\n",
       "        vertical-align: middle;\n",
       "    }\n",
       "\n",
       "    .dataframe tbody tr th {\n",
       "        vertical-align: top;\n",
       "    }\n",
       "\n",
       "    .dataframe thead th {\n",
       "        text-align: right;\n",
       "    }\n",
       "</style>\n",
       "<table border=\"1\" class=\"dataframe\">\n",
       "  <thead>\n",
       "    <tr style=\"text-align: right;\">\n",
       "      <th></th>\n",
       "      <th>DRG Definition</th>\n",
       "      <th>Provider Id</th>\n",
       "      <th>Provider Name</th>\n",
       "      <th>Provider Street Address</th>\n",
       "      <th>Provider City</th>\n",
       "      <th>Provider State</th>\n",
       "      <th>Provider Zip Code</th>\n",
       "      <th>Hospital Referral Region Description</th>\n",
       "      <th>Total Discharges</th>\n",
       "      <th>Average Covered Charges</th>\n",
       "      <th>Average Total Payments</th>\n",
       "      <th>Average Medicare Payments</th>\n",
       "    </tr>\n",
       "  </thead>\n",
       "  <tbody>\n",
       "    <tr>\n",
       "      <th>76922</th>\n",
       "      <td>309 - CARDIAC ARRHYTHMIA &amp; CONDUCTION DISORDER...</td>\n",
       "      <td>NaN</td>\n",
       "      <td>PROVIDENCE MEDFORD MEDICAL CENTER</td>\n",
       "      <td>1111 CRATER LAKE AVENUE</td>\n",
       "      <td>MEDFORD</td>\n",
       "      <td>OR</td>\n",
       "      <td>97504</td>\n",
       "      <td>OR - Medford</td>\n",
       "      <td>26.0</td>\n",
       "      <td>18400.92</td>\n",
       "      <td>5510.65</td>\n",
       "      <td>3872.26</td>\n",
       "    </tr>\n",
       "    <tr>\n",
       "      <th>57902</th>\n",
       "      <td>286 - CIRCULATORY DISORDERS EXCEPT AMI, W CARD...</td>\n",
       "      <td>100038.0</td>\n",
       "      <td>MEMORIAL REGIONAL HOSPITAL</td>\n",
       "      <td>3501 JOHNSON ST</td>\n",
       "      <td>HOLLYWOOD</td>\n",
       "      <td>FL</td>\n",
       "      <td>33021</td>\n",
       "      <td>FL - Miami</td>\n",
       "      <td>NaN</td>\n",
       "      <td>63041.58</td>\n",
       "      <td>14457.00</td>\n",
       "      <td>12509.50</td>\n",
       "    </tr>\n",
       "    <tr>\n",
       "      <th>123427</th>\n",
       "      <td>563 - FX, SPRN, STRN &amp; DISL EXCEPT FEMUR, HIP,...</td>\n",
       "      <td>310111.0</td>\n",
       "      <td>NaN</td>\n",
       "      <td>901 WEST MAIN STREET</td>\n",
       "      <td>FREEHOLD</td>\n",
       "      <td>NJ</td>\n",
       "      <td>7728</td>\n",
       "      <td>NJ - Camden</td>\n",
       "      <td>17.0</td>\n",
       "      <td>24265.11</td>\n",
       "      <td>4401.00</td>\n",
       "      <td>3542.88</td>\n",
       "    </tr>\n",
       "  </tbody>\n",
       "</table>\n",
       "</div>"
      ],
      "text/plain": [
       "                                           DRG Definition  Provider Id  \\\n",
       "76922   309 - CARDIAC ARRHYTHMIA & CONDUCTION DISORDER...          NaN   \n",
       "57902   286 - CIRCULATORY DISORDERS EXCEPT AMI, W CARD...     100038.0   \n",
       "123427  563 - FX, SPRN, STRN & DISL EXCEPT FEMUR, HIP,...     310111.0   \n",
       "\n",
       "                            Provider Name  Provider Street Address  \\\n",
       "76922   PROVIDENCE MEDFORD MEDICAL CENTER  1111 CRATER LAKE AVENUE   \n",
       "57902          MEMORIAL REGIONAL HOSPITAL          3501 JOHNSON ST   \n",
       "123427                                NaN     901 WEST MAIN STREET   \n",
       "\n",
       "       Provider City Provider State  Provider Zip Code  \\\n",
       "76922        MEDFORD             OR              97504   \n",
       "57902      HOLLYWOOD             FL              33021   \n",
       "123427      FREEHOLD             NJ               7728   \n",
       "\n",
       "       Hospital Referral Region Description  Total Discharges  \\\n",
       "76922                          OR - Medford              26.0   \n",
       "57902                            FL - Miami               NaN   \n",
       "123427                          NJ - Camden              17.0   \n",
       "\n",
       "        Average Covered Charges  Average Total Payments  \\\n",
       "76922                  18400.92                 5510.65   \n",
       "57902                  63041.58                14457.00   \n",
       "123427                 24265.11                 4401.00   \n",
       "\n",
       "        Average Medicare Payments  \n",
       "76922                     3872.26  \n",
       "57902                    12509.50  \n",
       "123427                    3542.88  "
      ]
     },
     "execution_count": 36,
     "metadata": {},
     "output_type": "execute_result"
    }
   ],
   "source": [
    "df.loc[random_rows]"
   ]
  },
  {
   "cell_type": "markdown",
   "metadata": {
    "colab_type": "text",
    "id": "LKcj6eHwufjL"
   },
   "source": [
    "<div style=\"direction:rtl;text-align:right\">\n",
    "هناك في العادة طريقتين أساسيتين للتعامل مع البيانات المفقودة: إما تصحيح البيانات أو حذف الصفوف بالكامل. في العادة، نفضل خيار تصحيح البيانات لأننا نريد الاستفادة القصوى من البيانات الموجودة خصوصا إن كان حجم البيانات صغير. لكن في هذه الحالة، نستطيع أن نحذف أي صفوف تحتوي على بيانات مفقودة وذلك لأن عددها قليل جداً مقارنة بحجم الصفوف. "
   ]
  },
  {
   "cell_type": "markdown",
   "metadata": {
    "colab_type": "text",
    "id": "AXb4Tw9RufjN"
   },
   "source": [
    "<div style=\"direction:rtl;text-align:right\">\n",
    "لنبدأ بخيار تصحيح البيانات وذلك بملئها بقيمة ما محددة سلفاً."
   ]
  },
  {
   "cell_type": "code",
   "execution_count": 37,
   "metadata": {
    "colab": {},
    "colab_type": "code",
    "id": "0jx1GZNEufjO",
    "outputId": "666d6af2-b3e4-40e1-e318-455beca7c75c"
   },
   "outputs": [
    {
     "data": {
      "text/html": [
       "<div>\n",
       "<style scoped>\n",
       "    .dataframe tbody tr th:only-of-type {\n",
       "        vertical-align: middle;\n",
       "    }\n",
       "\n",
       "    .dataframe tbody tr th {\n",
       "        vertical-align: top;\n",
       "    }\n",
       "\n",
       "    .dataframe thead th {\n",
       "        text-align: right;\n",
       "    }\n",
       "</style>\n",
       "<table border=\"1\" class=\"dataframe\">\n",
       "  <thead>\n",
       "    <tr style=\"text-align: right;\">\n",
       "      <th></th>\n",
       "      <th>DRG Definition</th>\n",
       "      <th>Provider Id</th>\n",
       "      <th>Provider Name</th>\n",
       "      <th>Provider Street Address</th>\n",
       "      <th>Provider City</th>\n",
       "      <th>Provider State</th>\n",
       "      <th>Provider Zip Code</th>\n",
       "      <th>Hospital Referral Region Description</th>\n",
       "      <th>Total Discharges</th>\n",
       "      <th>Average Covered Charges</th>\n",
       "      <th>Average Total Payments</th>\n",
       "      <th>Average Medicare Payments</th>\n",
       "    </tr>\n",
       "  </thead>\n",
       "  <tbody>\n",
       "    <tr>\n",
       "      <th>76922</th>\n",
       "      <td>309 - CARDIAC ARRHYTHMIA &amp; CONDUCTION DISORDER...</td>\n",
       "      <td>-1.0</td>\n",
       "      <td>PROVIDENCE MEDFORD MEDICAL CENTER</td>\n",
       "      <td>1111 CRATER LAKE AVENUE</td>\n",
       "      <td>MEDFORD</td>\n",
       "      <td>OR</td>\n",
       "      <td>97504</td>\n",
       "      <td>OR - Medford</td>\n",
       "      <td>26.0</td>\n",
       "      <td>18400.92</td>\n",
       "      <td>5510.65</td>\n",
       "      <td>3872.26</td>\n",
       "    </tr>\n",
       "    <tr>\n",
       "      <th>57902</th>\n",
       "      <td>286 - CIRCULATORY DISORDERS EXCEPT AMI, W CARD...</td>\n",
       "      <td>100038.0</td>\n",
       "      <td>MEMORIAL REGIONAL HOSPITAL</td>\n",
       "      <td>3501 JOHNSON ST</td>\n",
       "      <td>HOLLYWOOD</td>\n",
       "      <td>FL</td>\n",
       "      <td>33021</td>\n",
       "      <td>FL - Miami</td>\n",
       "      <td>-1.0</td>\n",
       "      <td>63041.58</td>\n",
       "      <td>14457.00</td>\n",
       "      <td>12509.50</td>\n",
       "    </tr>\n",
       "    <tr>\n",
       "      <th>123427</th>\n",
       "      <td>563 - FX, SPRN, STRN &amp; DISL EXCEPT FEMUR, HIP,...</td>\n",
       "      <td>310111.0</td>\n",
       "      <td>-1</td>\n",
       "      <td>901 WEST MAIN STREET</td>\n",
       "      <td>FREEHOLD</td>\n",
       "      <td>NJ</td>\n",
       "      <td>7728</td>\n",
       "      <td>NJ - Camden</td>\n",
       "      <td>17.0</td>\n",
       "      <td>24265.11</td>\n",
       "      <td>4401.00</td>\n",
       "      <td>3542.88</td>\n",
       "    </tr>\n",
       "  </tbody>\n",
       "</table>\n",
       "</div>"
      ],
      "text/plain": [
       "                                           DRG Definition  Provider Id  \\\n",
       "76922   309 - CARDIAC ARRHYTHMIA & CONDUCTION DISORDER...         -1.0   \n",
       "57902   286 - CIRCULATORY DISORDERS EXCEPT AMI, W CARD...     100038.0   \n",
       "123427  563 - FX, SPRN, STRN & DISL EXCEPT FEMUR, HIP,...     310111.0   \n",
       "\n",
       "                            Provider Name  Provider Street Address  \\\n",
       "76922   PROVIDENCE MEDFORD MEDICAL CENTER  1111 CRATER LAKE AVENUE   \n",
       "57902          MEMORIAL REGIONAL HOSPITAL          3501 JOHNSON ST   \n",
       "123427                                 -1     901 WEST MAIN STREET   \n",
       "\n",
       "       Provider City Provider State  Provider Zip Code  \\\n",
       "76922        MEDFORD             OR              97504   \n",
       "57902      HOLLYWOOD             FL              33021   \n",
       "123427      FREEHOLD             NJ               7728   \n",
       "\n",
       "       Hospital Referral Region Description  Total Discharges  \\\n",
       "76922                          OR - Medford              26.0   \n",
       "57902                            FL - Miami              -1.0   \n",
       "123427                          NJ - Camden              17.0   \n",
       "\n",
       "        Average Covered Charges  Average Total Payments  \\\n",
       "76922                  18400.92                 5510.65   \n",
       "57902                  63041.58                14457.00   \n",
       "123427                 24265.11                 4401.00   \n",
       "\n",
       "        Average Medicare Payments  \n",
       "76922                     3872.26  \n",
       "57902                    12509.50  \n",
       "123427                    3542.88  "
      ]
     },
     "execution_count": 37,
     "metadata": {},
     "output_type": "execute_result"
    }
   ],
   "source": [
    "df.loc[random_rows].fillna(-1)"
   ]
  },
  {
   "cell_type": "markdown",
   "metadata": {
    "colab_type": "text",
    "id": "zitbjGOMufjS"
   },
   "source": [
    "<div style=\"direction:rtl;text-align:right\">\n",
    "اما لحذف البيانات، فسنقوم باستخدام الأمر drop. في الأمر أدناه سنلاحظ أننا نستخدم متغيراً اسمه inplace وقيمته True. معنى هذا هو أن الحذف سيتم مباشرة في البيانات، بدون الحاجة إلى حفظ النتيجة في متغير آخر (قارن هذا مثلاً بما فعلناه أعلاه مع حذف علامة ال $.\n",
    "قبل أن نحذف، سنطبع معلومات الأعمدة ولاحظ رقم الخانات المفقودة قبل وصف العمود قبل وبعد الحذف."
   ]
  },
  {
   "cell_type": "code",
   "execution_count": 38,
   "metadata": {
    "colab": {},
    "colab_type": "code",
    "id": "7BM5dDAMufjT",
    "outputId": "f6e889c1-03cc-45db-f71b-04060bc0cdec"
   },
   "outputs": [
    {
     "name": "stdout",
     "output_type": "stream",
     "text": [
      "<class 'pandas.core.frame.DataFrame'>\n",
      "RangeIndex: 163065 entries, 0 to 163064\n",
      "Data columns (total 12 columns):\n",
      "DRG Definition                          163065 non-null object\n",
      "Provider Id                             163064 non-null float64\n",
      "Provider Name                           163064 non-null object\n",
      "Provider Street Address                 163065 non-null object\n",
      "Provider City                           163065 non-null object\n",
      "Provider State                          163065 non-null object\n",
      "Provider Zip Code                       163065 non-null int64\n",
      "Hospital Referral Region Description    163065 non-null object\n",
      "Total Discharges                        163064 non-null float64\n",
      "Average Covered Charges                 163065 non-null float64\n",
      "Average Total Payments                  163065 non-null float64\n",
      "Average Medicare Payments               163065 non-null float64\n",
      "dtypes: float64(5), int64(1), object(6)\n",
      "memory usage: 14.9+ MB\n"
     ]
    }
   ],
   "source": [
    "df.info()"
   ]
  },
  {
   "cell_type": "code",
   "execution_count": 39,
   "metadata": {
    "colab": {},
    "colab_type": "code",
    "id": "j7FTUbaZufjX"
   },
   "outputs": [],
   "source": [
    "df.dropna(inplace=True)"
   ]
  },
  {
   "cell_type": "code",
   "execution_count": 40,
   "metadata": {
    "colab": {},
    "colab_type": "code",
    "id": "KD3UKWgoufjf",
    "outputId": "3e3aae79-86b5-4158-f7f2-394761fd4025"
   },
   "outputs": [
    {
     "name": "stdout",
     "output_type": "stream",
     "text": [
      "<class 'pandas.core.frame.DataFrame'>\n",
      "Int64Index: 163062 entries, 0 to 163064\n",
      "Data columns (total 12 columns):\n",
      "DRG Definition                          163062 non-null object\n",
      "Provider Id                             163062 non-null float64\n",
      "Provider Name                           163062 non-null object\n",
      "Provider Street Address                 163062 non-null object\n",
      "Provider City                           163062 non-null object\n",
      "Provider State                          163062 non-null object\n",
      "Provider Zip Code                       163062 non-null int64\n",
      "Hospital Referral Region Description    163062 non-null object\n",
      "Total Discharges                        163062 non-null float64\n",
      "Average Covered Charges                 163062 non-null float64\n",
      "Average Total Payments                  163062 non-null float64\n",
      "Average Medicare Payments               163062 non-null float64\n",
      "dtypes: float64(5), int64(1), object(6)\n",
      "memory usage: 16.2+ MB\n"
     ]
    }
   ],
   "source": [
    "df.info()"
   ]
  },
  {
   "cell_type": "markdown",
   "metadata": {
    "colab_type": "text",
    "id": "bNIMUDE-ufjm"
   },
   "source": [
    "<div style=\"direction:rtl;text-align:right\">\n",
    "كما نلاحظ تم حذف الصفوف التي تحتوي على بيانات مفقودة ليصبح لدينا سجل كامل من البيانات."
   ]
  },
  {
   "cell_type": "markdown",
   "metadata": {
    "colab_type": "text",
    "id": "PIYoYwLfufjn"
   },
   "source": [
    "<div style=\"direction:rtl;text-align:right\">\n",
    "سنقف إلى هذا الحد مع البيانات المفقودة لكن قصة البيانات المفقودة لا تنتهي عند هذا الحد. حيث أن حذف الصفوف طريقة قد لا تكون مناسبة في حالات أخرى كثيرة حين تحتوي أغلب الصفوف على بيانات مفقودة. في هذه الحالات سنضطر إلى إكمال تحليل البيانات بالبيانات الموجودة فحسب. في حالات أخرى، قد يكون منطقياً أن نستبدل البيانات الرقمية المفقودة بالمعدل (Average) وهذا التصحيح شائع في كثير من التطبيقات. في حالات متقدمة مثل البيانات التسلسلية والزمنية مثلاً أسعار الأسهم، قد نضطر إلى استخدام طرق رياضية أكثر تقدماً ولكن باندا توفرها لنا بشكل سهل الاستخدام تسمى ب  interpolation."
   ]
  },
  {
   "cell_type": "markdown",
   "metadata": {
    "colab_type": "text",
    "id": "HgcViJ29ufjq"
   },
   "source": [
    "<div style=\"direction:rtl;text-align:right\">\n",
    "\n",
    "### تصحيح البيانات الخاطئة"
   ]
  },
  {
   "cell_type": "markdown",
   "metadata": {
    "colab_type": "text",
    "id": "LTEBW7WAufjq"
   },
   "source": [
    "<div style=\"direction:rtl;text-align:right\">\n",
    "لتصحيح البيانات الخاطئة، لابد أن نلقي نظرة على جميع القيم ونرى إن كان لدينا قيم شاذة (outliers) أم لا. في حالات كثيرة، قد تكون القيم الشاذة سليمة تماماً لكن في حالات معينة، قد تعبر القيم الشاذة عن خطأ بشري أثناء إدخال البيانات وليست قيمة سليمة مطلقاً. بالطبع، لا يعرف محلل البيانات بالتحديد وهذه التقديرات تختلف بحسب الخبرة والتمكن. لكن لنأخذ الطريقة الإحصائية الأساسية ونرى هل لدينا قيم شاذة أم لا. "
   ]
  },
  {
   "cell_type": "markdown",
   "metadata": {
    "colab_type": "text",
    "id": "nBPu3Q6eufjr"
   },
   "source": [
    "<div style=\"direction:rtl;text-align:right\">\n",
    "الطريقة الإحصائية الشائعة هي في البحث عن القيم التي تبعد عن المعدل بثلاث أضعاف الانحراف المعياري (Standard Deviation). بمعنى، أن الأرقام التي تبعد عن المعدل بمسافة معينة سواء أكثر أو أقل، سنقوم باعتبارها قيم شاذة ولابد من حذفها أو التعامل معها. بطريقة رياضية نستطيع أن نعبر عن الأمر كالتالي: <br> <br>\n",
    "    \n",
    "<div style=\"direction:ltr;text-align:right\">\n",
    "$$outlier = ( value < value_{Mean} - 3* value_{Std}  )$$  $$  outlier = ( value > value_{Mean} + 3* value_{Std}) $$"
   ]
  },
  {
   "cell_type": "markdown",
   "metadata": {
    "colab_type": "text",
    "id": "lwwpUWVoufjs"
   },
   "source": [
    "<div style=\"direction:rtl;text-align:right\">\n",
    "في المثال التالي، لنتأكد أولاً من وجود قيم شاذة في عمود Total Discharges ونرى كيف تبدو الأرقام. لاحظ أني استخدمت الأمر np.abs وذلك لأخذ القيمة المطلقة للأرقام (وذلك بتحويل الأرقام السالبة إلى موجبة) ثم إجراء المقارنة للبحث عن الأرقام البعيدة جداً عن المعدل."
   ]
  },
  {
   "cell_type": "code",
   "execution_count": 41,
   "metadata": {
    "colab": {},
    "colab_type": "code",
    "id": "ZpwtloACufjs"
   },
   "outputs": [],
   "source": [
    "outliers_filter = np.abs(df['Total Discharges']) > df['Total Discharges'].mean() + 3*df['Total Discharges'].std()"
   ]
  },
  {
   "cell_type": "markdown",
   "metadata": {
    "colab_type": "text",
    "id": "-1XYXRWCufjv"
   },
   "source": [
    "<div style=\"direction:rtl;text-align:right\">\n",
    "لنلاحظ أن المتغير outliers_filter يحتوي على قيمتين لكل صف وهي إما True أو False. وكما أوضحنا في الدروس السابقة، فTrue تعني أن هذا الصف يوافق الشرط. لحساب مجموع الصفوف التي وافقت الشرط أعلاه نقوم بإجراء الأمر astype(int) لتحويل قيمة الصفوف التي وافقت الشرط إلى 1 وأما الصفوف الباقية فتكون قيمتها 0."
   ]
  },
  {
   "cell_type": "code",
   "execution_count": 42,
   "metadata": {
    "colab": {},
    "colab_type": "code",
    "id": "axJrVfO5ufjw",
    "outputId": "f339166e-7272-4c54-d61f-76442753fbbe"
   },
   "outputs": [
    {
     "data": {
      "text/plain": [
       "2790"
      ]
     },
     "execution_count": 42,
     "metadata": {},
     "output_type": "execute_result"
    }
   ],
   "source": [
    "outliers_filter.astype(int).sum()"
   ]
  },
  {
   "cell_type": "markdown",
   "metadata": {
    "colab_type": "text",
    "id": "wD1TNy7mufj1"
   },
   "source": [
    "<div style=\"direction:rtl;text-align:right\">\n",
    "لكن في الواقع لا نحتاج إلى astype(int) حيث أن باندا تقوم بإجراء الجمع على القيم المنطقية وتقوم بهذه العملية في الخلفية نيابة عنا. بالتالي يصبح الأمر المختصر هو كالتالي"
   ]
  },
  {
   "cell_type": "code",
   "execution_count": 43,
   "metadata": {
    "colab": {},
    "colab_type": "code",
    "id": "2-ukSOaFufj2",
    "outputId": "5c46a797-3f7d-4529-ae0f-a589ccb2bd4e"
   },
   "outputs": [
    {
     "data": {
      "text/plain": [
       "2790"
      ]
     },
     "execution_count": 43,
     "metadata": {},
     "output_type": "execute_result"
    }
   ],
   "source": [
    "outliers_filter.sum()"
   ]
  },
  {
   "cell_type": "markdown",
   "metadata": {
    "colab_type": "text",
    "id": "fu0seM1kufj7"
   },
   "source": [
    "<div style=\"direction:rtl;text-align:right\">\n",
    "لدينا 2790 صف تجاوزت فيه قيمة ال Total Discharges القيم المتوسطة. ماذا نعمل بشأنها؟ عملياً قد نتجاوزها مؤقتا، لكن قد يختلف هذا الأسلوب من مجال إلى مجال حيث أن كثيراً من المجالات تكون القيم المتطرفة قيم صحيحة وليست عبارة عن خطأ كما هو حاصل معنا هنا (حيث أن هناك عدد كبير من القيم). لتجاوز هذه القيم سنقوم بحذف هذه الصفوف."
   ]
  },
  {
   "cell_type": "markdown",
   "metadata": {
    "colab_type": "text",
    "id": "xqVN-X8Gufj8"
   },
   "source": [
    "<div style=\"direction:rtl;text-align:right\">\n",
    "بما أن المتغير outliers_filter يحتوي على قيم منطقية فقط، سنقوم باستخدام df.index واستدعاء الصفوف التي توافق الشرط ونقوم بحذفها. بعد ذلك سنقوم بطباعة الشكل الجديد للبيانات لنرى عدد الصفوف. لاحظ أن العملية التالية لا نستخدم فيها inplace=True بما يعني أن العملية مؤقتة ولن تحفظ بعد."
   ]
  },
  {
   "cell_type": "code",
   "execution_count": 44,
   "metadata": {
    "colab": {},
    "colab_type": "code",
    "id": "y-lUD4wZufj9",
    "outputId": "6f54855c-d34f-489f-e1fe-d5d84c6b0768"
   },
   "outputs": [
    {
     "data": {
      "text/plain": [
       "(160272, 12)"
      ]
     },
     "execution_count": 44,
     "metadata": {},
     "output_type": "execute_result"
    }
   ],
   "source": [
    "df.drop(df.index[outliers_filter]).shape"
   ]
  },
  {
   "cell_type": "markdown",
   "metadata": {
    "colab_type": "text",
    "id": "paCCWA2YufkD"
   },
   "source": [
    "<div style=\"direction:rtl;text-align:right\">\n",
    "لم نقم بحفظ البيانات لأن هناك طريقة أخرى للتخلص من هذه الصفوف بدلا عن استخدام أمر drop، ألا وهي باستخدام المهارات التي تعلمناها في الفلترة باستخدام الجمل الشرطية. في الأمر التالي، سنقوم بنقض الشرط (باستخدام العلامة ~ ) والتي ستقوم بتبديل قيم True إلى False والعكس صحيح. ومن ثم نقوم باستدعاء البيانات بوجود هذا الشرط الجديد الذي يأخذ فقط الصفوف التي توافق الشرط. سنقوم بطباعة الشكل كذلك لنقارنه بالطريقة أعلاه."
   ]
  },
  {
   "cell_type": "code",
   "execution_count": 45,
   "metadata": {
    "colab": {},
    "colab_type": "code",
    "id": "wRLEhWzFufkE"
   },
   "outputs": [],
   "source": [
    "df = df[~outliers_filter]"
   ]
  },
  {
   "cell_type": "code",
   "execution_count": 46,
   "metadata": {
    "colab": {},
    "colab_type": "code",
    "id": "UC3dCXoWufkG",
    "outputId": "24ea277e-e6f2-426e-b1d7-19c357537437",
    "scrolled": true
   },
   "outputs": [
    {
     "data": {
      "text/plain": [
       "(160272, 12)"
      ]
     },
     "execution_count": 46,
     "metadata": {},
     "output_type": "execute_result"
    }
   ],
   "source": [
    "df.shape"
   ]
  },
  {
   "cell_type": "markdown",
   "metadata": {
    "colab_type": "text",
    "id": "7F6cZYlAufkL"
   },
   "source": [
    "<div style=\"direction:rtl;text-align:right\">\n",
    "لاحظ أننا في المثال أعلاه تعاملنا مع عمود واحد فقط لاستعراضه كمثال. في الواقع لابد أن نتحقق من جميع الأعمدة الرقمية للبحث عن القيم المتطرفة."
   ]
  },
  {
   "cell_type": "markdown",
   "metadata": {
    "colab_type": "text",
    "id": "moWi2sULufkR"
   },
   "source": [
    "<div style=\"direction:rtl;text-align:right\">\n",
    "\n",
    "### توحيد القيم"
   ]
  },
  {
   "cell_type": "markdown",
   "metadata": {
    "colab_type": "text",
    "id": "5JbfIK2OufkS"
   },
   "source": [
    "<div style=\"direction:rtl;text-align:right\">\n",
    "يبدو أن القيم النصية في البيانات التي لدينا متناسقة ولا تحتاج إلى إصلاح. كيف كيف نتأكد من ذلك فعلا؟ لفعل ذلك سنقوم بطباعة القيم \"الفريدة\" في كل عمود مع العدد الذي تكررت فيه لنرى إن كان لدينا قيم نادرة جداً من غير سبب. نقوم ذلك باستدعاء الأمر value_counts والذي يعمل فقط على الأعمدة (Series). الأعمدة التي تحتوي على بيانات نصية هي: DRG Definition, Provider Name, Provider Street Address, Provider City, Provider State, Provider Zip Code, Hospital Referral Region Description. لنأخذ DRG Definition على سبيل المثال."
   ]
  },
  {
   "cell_type": "code",
   "execution_count": 47,
   "metadata": {
    "colab": {},
    "colab_type": "code",
    "id": "mFti18IJufkS",
    "outputId": "31e1ac50-7d6d-4cff-d5cd-995b9a42503c"
   },
   "outputs": [
    {
     "data": {
      "text/plain": [
       "194 - SIMPLE PNEUMONIA & PLEURISY W CC                                        2961\n",
       "690 - KIDNEY & URINARY TRACT INFECTIONS W/O MCC                               2884\n",
       "641 - MISC DISORDERS OF NUTRITION,METABOLISM,FLUIDS/ELECTROLYTES W/O MCC      2874\n",
       "292 - HEART FAILURE & SHOCK W CC                                              2789\n",
       "603 - CELLULITIS W/O MCC                                                      2781\n",
       "392 - ESOPHAGITIS, GASTROENT & MISC DIGEST DISORDERS W/O MCC                  2742\n",
       "191 - CHRONIC OBSTRUCTIVE PULMONARY DISEASE W CC                              2683\n",
       "190 - CHRONIC OBSTRUCTIVE PULMONARY DISEASE W MCC                             2681\n",
       "192 - CHRONIC OBSTRUCTIVE PULMONARY DISEASE W/O CC/MCC                        2660\n",
       "195 - SIMPLE PNEUMONIA & PLEURISY W/O CC/MCC                                  2575\n",
       "291 - HEART FAILURE & SHOCK W MCC                                             2575\n",
       "193 - SIMPLE PNEUMONIA & PLEURISY W MCC                                       2552\n",
       "378 - G.I. HEMORRHAGE W CC                                                    2524\n",
       "293 - HEART FAILURE & SHOCK W/O CC/MCC                                        2510\n",
       "872 - SEPTICEMIA OR SEVERE SEPSIS W/O MV 96+ HOURS W/O MCC                    2488\n",
       "683 - RENAL FAILURE W CC                                                      2463\n",
       "310 - CARDIAC ARRHYTHMIA & CONDUCTION DISORDERS W/O CC/MCC                    2385\n",
       "309 - CARDIAC ARRHYTHMIA & CONDUCTION DISORDERS W CC                          2353\n",
       "871 - SEPTICEMIA OR SEVERE SEPSIS W/O MV 96+ HOURS W MCC                      2337\n",
       "812 - RED BLOOD CELL DISORDERS W/O MCC                                        2313\n",
       "065 - INTRACRANIAL HEMORRHAGE OR CEREBRAL INFARCTION W CC                     2252\n",
       "312 - SYNCOPE & COLLAPSE                                                      2202\n",
       "313 - CHEST PAIN                                                              2166\n",
       "682 - RENAL FAILURE W MCC                                                     2128\n",
       "481 - HIP & FEMUR PROCEDURES EXCEPT MAJOR JOINT W CC                          2089\n",
       "189 - PULMONARY EDEMA & RESPIRATORY FAILURE                                   2077\n",
       "470 - MAJOR JOINT REPLACEMENT OR REATTACHMENT OF LOWER EXTREMITY W/O MCC      2024\n",
       "208 - RESPIRATORY SYSTEM DIAGNOSIS W VENTILATOR SUPPORT <96 HOURS             1993\n",
       "069 - TRANSIENT ISCHEMIA                                                      1958\n",
       "178 - RESPIRATORY INFECTIONS & INFLAMMATIONS W CC                             1952\n",
       "                                                                              ... \n",
       "039 - EXTRACRANIAL PROCEDURES W/O CC/MCC                                      1079\n",
       "244 - PERMANENT CARDIAC PACEMAKER IMPLANT W/O CC/MCC                          1075\n",
       "238 - MAJOR CARDIOVASC PROCEDURES W/O MCC                                     1053\n",
       "482 - HIP & FEMUR PROCEDURES EXCEPT MAJOR JOINT W/O CC/MCC                    1040\n",
       "684 - RENAL FAILURE W/O CC/MCC                                                1008\n",
       "149 - DYSEQUILIBRIUM                                                           987\n",
       "563 - FX, SPRN, STRN & DISL EXCEPT FEMUR, HIP, PELVIS & THIGH W/O MCC          983\n",
       "074 - CRANIAL & PERIPHERAL NERVE DISORDERS W/O MCC                             979\n",
       "491 - BACK & NECK PROC EXC SPINAL FUSION W/O CC/MCC                            970\n",
       "418 - LAPAROSCOPIC CHOLECYSTECTOMY W/O C.D.E. W CC                             959\n",
       "439 - DISORDERS OF PANCREAS EXCEPT MALIGNANCY W CC                             955\n",
       "249 - PERC CARDIOVASC PROC W NON-DRUG-ELUTING STENT W/O MCC                    951\n",
       "602 - CELLULITIS W MCC                                                         945\n",
       "870 - SEPTICEMIA OR SEVERE SEPSIS W MV 96+ HOURS                               938\n",
       "469 - MAJOR JOINT REPLACEMENT OR REATTACHMENT OF LOWER EXTREMITY W MCC         932\n",
       "480 - HIP & FEMUR PROCEDURES EXCEPT MAJOR JOINT W MCC                          929\n",
       "699 - OTHER KIDNEY & URINARY TRACT DIAGNOSES W CC                              918\n",
       "254 - OTHER VASCULAR PROCEDURES W/O CC/MCC                                     915\n",
       "246 - PERC CARDIOVASC PROC W DRUG-ELUTING STENT W MCC OR 4+ VESSELS/STENTS     915\n",
       "286 - CIRCULATORY DISORDERS EXCEPT AMI, W CARD CATH W MCC                      909\n",
       "203 - BRONCHITIS & ASTHMA W/O CC/MCC                                           894\n",
       "897 - ALCOHOL/DRUG ABUSE OR DEPENDENCE W/O REHABILITATION THERAPY W/O MCC      891\n",
       "301 - PERIPHERAL VASCULAR DISORDERS W/O CC/MCC                                 877\n",
       "698 - OTHER KIDNEY & URINARY TRACT DIAGNOSES W MCC                             874\n",
       "419 - LAPAROSCOPIC CHOLECYSTECTOMY W/O C.D.E. W/O CC/MCC                       871\n",
       "315 - OTHER CIRCULATORY SYSTEM DIAGNOSES W CC                                  859\n",
       "473 - CERVICAL SPINAL FUSION W/O CC/MCC                                        846\n",
       "917 - POISONING & TOXIC EFFECTS OF DRUGS W MCC                                 843\n",
       "251 - PERC CARDIOVASC PROC W/O CORONARY ARTERY STENT W/O MCC                   718\n",
       "885 - PSYCHOSES                                                                451\n",
       "Name: DRG Definition, Length: 100, dtype: int64"
      ]
     },
     "execution_count": 47,
     "metadata": {},
     "output_type": "execute_result"
    }
   ],
   "source": [
    "df['DRG Definition'].value_counts()"
   ]
  },
  {
   "cell_type": "markdown",
   "metadata": {
    "colab_type": "text",
    "id": "OLx3g9kRufkV"
   },
   "source": [
    "<div style=\"direction:rtl;text-align:right\">\n",
    "نستطيع أن نلاحظ أمرين: أولاً أن جميع القيم مكتوبة بشكل متناسق ومتوائم. فمثلاً لا توجد لدينا قيمة بلا رقم يسبقها أو ما إلى ذلك. الأمر الآخر وهو الأهم، أن أقل قيمة نجد أنها تكررت عدد كبير من المرات بما يعني أنه لا توجد لدينا مشكلة توحيد المتغيرات في هذا العمود. لنأخذ عموداً آخر ونرى كيف تبدو النتيجة."
   ]
  },
  {
   "cell_type": "code",
   "execution_count": 48,
   "metadata": {
    "colab": {},
    "colab_type": "code",
    "id": "Wn2nz_ewufkW",
    "outputId": "611891f0-13ce-48cf-9f33-7adbe20166b0"
   },
   "outputs": [
    {
     "data": {
      "text/plain": [
       "GOOD SAMARITAN HOSPITAL                               621\n",
       "ST JOSEPH MEDICAL CENTER                              425\n",
       "MERCY MEDICAL CENTER                                  356\n",
       "ST JOSEPH HOSPITAL                                    342\n",
       "MERCY HOSPITAL                                        340\n",
       "ST FRANCIS MEDICAL CENTER                             273\n",
       "ST MARY MEDICAL CENTER                                261\n",
       "ST LUKES HOSPITAL                                     254\n",
       "ST FRANCIS HOSPITAL                                   251\n",
       "JEFFERSON REGIONAL MEDICAL CENTER                     231\n",
       "MEMORIAL HOSPITAL                                     225\n",
       "ST MARY'S MEDICAL CENTER                              212\n",
       "DOCTORS HOSPITAL                                      208\n",
       "ST JOSEPH'S HOSPITAL                                  203\n",
       "ST VINCENT'S MEDICAL CENTER                           184\n",
       "PRESBYTERIAN HOSPITAL                                 182\n",
       "BAPTIST MEDICAL CENTER                                181\n",
       "NORTHWEST MEDICAL CENTER                              178\n",
       "MERCY REGIONAL MEDICAL CENTER                         175\n",
       "ST MARYS HOSPITAL                                     173\n",
       "NORTH SHORE MEDICAL CENTER                            171\n",
       "BAPTIST HOSPITAL                                      169\n",
       "COMMUNITY MEDICAL CENTER                              163\n",
       "SAINT JOSEPH HOSPITAL                                 162\n",
       "WESLEY MEDICAL CENTER                                 158\n",
       "PROVIDENCE HOSPITAL                                   157\n",
       "CHRIST HOSPITAL                                       157\n",
       "HOLY CROSS HOSPITAL                                   154\n",
       "SACRED HEART HOSPITAL                                 153\n",
       "SWEDISH MEDICAL CENTER                                152\n",
       "                                                     ... \n",
       "HERITAGE PARK SURGICAL HOSPITAL                         1\n",
       "SONOMA DEVELOPMENTAL CENTER                             1\n",
       "PHS INDIAN HOSPITAL AT ROSEBUD                          1\n",
       "SURGICAL SPECIALTY CENTER AT COORDINATED HEALTH         1\n",
       "CLAREMORE INDIAN HOSPITAL                               1\n",
       "IRVING COPPELL SURGICAL HOSPITAL LLP                    1\n",
       "W O MOSS REGIONAL MEDICAL CENTER                        1\n",
       "LAC/RANCHO LOS AMIGOS NATIONAL REHABILITATION  CTR      1\n",
       "PHYSICIAN'S CHOICE HOSPITAL - FREMONT, LLC              1\n",
       "ANIMAS SURGICAL HOSPITAL, LLC                           1\n",
       "STANISLAUS SURGICAL HOSPITAL                            1\n",
       "PARK CITY MEDICAL CENTER                                1\n",
       "KNOX COUNTY HOSPITAL                                    1\n",
       "OASIS HOSPITAL                                          1\n",
       "BUCKS COUNTY SPECIALTY HOSPITAL                         1\n",
       "METHODIST WEST HOUSTON HOSPITAL                         1\n",
       "EDGEWOOD SURGICAL HOSPITAL                              1\n",
       "EAGLEVILLE HOSPITAL                                     1\n",
       "ALLEN PARISH HOSPITAL                                   1\n",
       "SURGICAL HOSPITAL AT SOUTHWOODS                         1\n",
       "WESTERN PENNSYLVANIA HOSPITAL                           1\n",
       "NEBRASKA ORTHOPAEDIC HOSPITAL                           1\n",
       "KEEFE MEMORIAL HOSPITAL                                 1\n",
       "MANHATTAN SURGICAL HOSPITAL LLC                         1\n",
       "KANSAS SURGERY & RECOVERY CENTER                        1\n",
       "TREASURE VALLEY HOSPITAL                                1\n",
       "ZUNI COMPREHENSIVE COMMUNITY HEALTH CENTER              1\n",
       "WOMEN AND CHILDREN'S HOSPITAL AT LAKE CHARLES           1\n",
       "PATEWOOD MEMORIAL HOSPITAL                              1\n",
       "UVA HEALTH SCIENCES CENTER                              1\n",
       "Name: Provider Name, Length: 3191, dtype: int64"
      ]
     },
     "execution_count": 48,
     "metadata": {},
     "output_type": "execute_result"
    }
   ],
   "source": [
    "#Provider Name, Provider Street Address, Provider City, Provider State, Provider Zip Code, Hospital Referral Region Description\n",
    "df['Provider Name'].value_counts()"
   ]
  },
  {
   "cell_type": "markdown",
   "metadata": {
    "colab_type": "text",
    "id": "foGoo7YEufkc"
   },
   "source": [
    "<div style=\"direction:rtl;text-align:right\">\n",
    "نجد أن عدد من القيم تكررت مرة واحدة فقط. ولكن هذا بالضرورة يعني أن لدينا مشكلة؟ حين نرى القيم ذاتها، لا نلحظ أي تغير أو اختلاف في كتابة الأسماء. ستكون لدينا مشكلة كبيرة فيما لو كانت هناك طريقتين لكتابة هذه الأسما وللتأكد من ذلك سنضطر للتحقق من كامل البيانات. لكن نرى من خلال الأمر  أعلاه أن الأسماء كتبت بشكل متناسق كذلك وسنفترض أن جميع الأسماء كتبت بشكل متناسق بدون أي مشاكل. لذلك نستطيع أن نتجاوز هذه الخطوة إلى رسم البيانات."
   ]
  },
  {
   "cell_type": "markdown",
   "metadata": {
    "colab_type": "text",
    "id": "gfFrEYwfufkf"
   },
   "source": [
    "<div style=\"direction:rtl;text-align:right\">\n",
    "\n",
    "## رسم البيانات - تصوير البيانات (Data Visualization)"
   ]
  },
  {
   "cell_type": "markdown",
   "metadata": {
    "colab_type": "text",
    "id": "eLl6Msbwufkg"
   },
   "source": [
    "<div style=\"direction:rtl;text-align:right\">\n",
    "بعد أن قمنا بتنظيف البيانات نحن الآن على أتم الاستعداد لرسم البيانات لنرى كيف تبدو الأرقام. لكن، لماذا نحتاج إلى رسم البيانات ابتداء؟ هناك أسباب هامة لرسم البيانات.\n",
    "    <br>\n",
    "    أولا، رسم البيانات يساعدنا على فهم البيانات بشكل كلي. وهذه النقطة ربما تكون أهم سبب في اهتمامنا برسم البيانات وذلك لأن الكثير من الملاحظات والأنماط لا نستطيع أن نراها في الأرقام فجأة بل نحتاج أن نراها في صورة.\n",
    "    <br>\n",
    "    ثانيا، رسم البيانات مهم جداً للتواصل مع الآخرين خصوصاً غير المتخصصين في تحليل البيانات. في نهاية الأمر هذه الرسومات البيانية هي أحد أهم المخرجات الأساسية من عملية تحليل البيانات."
   ]
  },
  {
   "cell_type": "markdown",
   "metadata": {
    "colab_type": "text",
    "id": "Fg3K13oAufkh"
   },
   "source": [
    "<div style=\"direction:rtl;text-align:right\">\n",
    "لرسم البيانات، لدينا عدة خيارات: أولاً استخدام أوامر باندا في رسم البيانات أو استخدام مكتبة أخرى تسمى seaborn. سنرى كيف نقوم برسم البيانات باستخدام كلا الأمرين. لن تقوم هنا بالتوسع في رسم البيانات بل سنستخدم الأوامر الجاهزة والتي تقوم بأغلب المهمة نيابة عنا."
   ]
  },
  {
   "cell_type": "markdown",
   "metadata": {
    "colab_type": "text",
    "id": "q9sAKk5qufki"
   },
   "source": [
    "<div style=\"direction:rtl;text-align:right\">\n",
    "رسم البيانات عملية قائمة بشكل أساسي على أسئلتنا وما نريد أن نفهمه من هذه البيانات. والرسوم البيانية في الواقع خليط من علم وفن. العلم هو المهارة التي نستطيع اكتسابها ولكن التحدي الحقيقي هو جزء \"الفن\". ما أعنيه بالفن هو طرح الأسئلة الصحيحة التي تبرز لنا جانباً أو نمطاً من البيانات لا نستطيع رؤيته بسهولة."
   ]
  },
  {
   "cell_type": "markdown",
   "metadata": {
    "colab_type": "text",
    "id": "iX6w1ilgufkj"
   },
   "source": [
    "<div style=\"direction:rtl;text-align:right\">\n",
    "سنتعامل مع متغير \"Average Total Payments\" لمعرفة مجموع التكاليف التي تدفعها شركات التأمين للمستشفيات بحسب كل صنف أو مرض."
   ]
  },
  {
   "cell_type": "code",
   "execution_count": 66,
   "metadata": {
    "colab": {},
    "colab_type": "code",
    "id": "IC3Iz5SJufkj",
    "outputId": "6c6c454e-b55b-449e-cb64-f58888bf6a3b"
   },
   "outputs": [
    {
     "data": {
      "text/plain": [
       "count    160272.000000\n",
       "mean       9692.359361\n",
       "std        7703.984989\n",
       "min        2673.000000\n",
       "25%        5219.182500\n",
       "50%        7183.710000\n",
       "75%       11205.392500\n",
       "max      156158.180000\n",
       "Name: Average Total Payments, dtype: float64"
      ]
     },
     "execution_count": 66,
     "metadata": {},
     "output_type": "execute_result"
    }
   ],
   "source": [
    "df['Average Total Payments'].describe()"
   ]
  },
  {
   "cell_type": "markdown",
   "metadata": {
    "colab_type": "text",
    "id": "sRQoZvcYufkp"
   },
   "source": [
    "<div style=\"direction:rtl;text-align:right\">\n",
    "نرى من خلال الأرقام أعلاه أن المعدل هو بحدود 9 ألاف دولار، فيما تبلغ القيمة الدنيا 2673 دولار والقيمة القصوى بحدود 155 ألف دولار.  لكن كيف تبدو الأرقام ؟ هل هي موزعة بالتساوي بين القيمة الدنيا والقيمة القصوى أم أن هناك اختلافات؟"
   ]
  },
  {
   "cell_type": "markdown",
   "metadata": {
    "colab_type": "text",
    "id": "uGVHxLxTufkp"
   },
   "source": [
    "<div style=\"direction:rtl;text-align:right\">\n",
    "أهم أشكال التصوير البياني هو رؤية توزيع الأرقام. في الشكل التوزيعي، نجد في المحور السيني (الأفقي) التكاليف كرقم. ونجد في المحور الصادي (العمودي) معدل تكرار كل رقم من التكاليف. هذا الشكل سيعطينا فكرة عن توزيع الأرقام."
   ]
  },
  {
   "cell_type": "code",
   "execution_count": 67,
   "metadata": {
    "colab": {},
    "colab_type": "code",
    "id": "g5cNGxH9ufkq"
   },
   "outputs": [],
   "source": [
    "import matplotlib.pyplot as plt"
   ]
  },
  {
   "cell_type": "code",
   "execution_count": 68,
   "metadata": {
    "colab": {},
    "colab_type": "code",
    "id": "TdzCqb-dufks",
    "outputId": "23cfb20c-0ba6-4f0b-daff-0a96778c793a"
   },
   "outputs": [
    {
     "data": {
      "text/plain": [
       "Text(0.5, 1.0, 'Distripution of Average Total Payments')"
      ]
     },
     "execution_count": 68,
     "metadata": {},
     "output_type": "execute_result"
    },
    {
     "data": {
      "image/png": "[encoded data removed]",
      "text/plain": [
       "<Figure size 720x504 with 1 Axes>"
      ]
     },
     "metadata": {
      "needs_background": "light"
     },
     "output_type": "display_data"
    }
   ],
   "source": [
    "#plot command\n",
    "df['Average Total Payments'].plot(kind='hist', bins=50, figsize=(10,7))\n",
    "\n",
    "#set xlabel and title\n",
    "plt.xlabel('Average Total Payments')\n",
    "plt.title('Distripution of Average Total Payments')"
   ]
  },
  {
   "cell_type": "markdown",
   "metadata": {
    "colab_type": "text",
    "id": "ELw-9YL3ufky"
   },
   "source": [
    "<div style=\"direction:rtl;text-align:right\">\n",
    "نرى أن الأرقام تميل إلى القيمة الدنيا حيث أنها الأغلب في هذه البيانات. لكن كلما زادت قيمة التكاليف، كلما قل تكرار القيمة وهكذا حتى القيمة القصوى."
   ]
  },
  {
   "cell_type": "markdown",
   "metadata": {
    "colab_type": "text",
    "id": "vV2rg7ejufkz"
   },
   "source": [
    "<div style=\"direction:rtl;text-align:right\">\n",
    "الآن لنرى العلاقة بين هذه التكاليف وبين Total Discharges وهو عدد المرضى. هل هناك أي علاقة ؟ هل تكاليف أغلب المرضى تميل إلى القيمة الدنيا أم القيمة القصوى أم مكان ما في المنتصف ؟"
   ]
  },
  {
   "cell_type": "code",
   "execution_count": 69,
   "metadata": {
    "colab": {},
    "colab_type": "code",
    "id": "96ZK9GAzufk0",
    "outputId": "5eb3f779-d7f4-49e1-c817-ddabcbb19da5",
    "scrolled": false
   },
   "outputs": [
    {
     "data": {
      "text/plain": [
       "Text(0.5, 1.0, 'Distripution of Average Total Payments')"
      ]
     },
     "execution_count": 69,
     "metadata": {},
     "output_type": "execute_result"
    },
    {
     "data": {
      "image/png": "[encoded data removed]",
      "text/plain": [
       "<Figure size 720x504 with 1 Axes>"
      ]
     },
     "metadata": {
      "needs_background": "light"
     },
     "output_type": "display_data"
    }
   ],
   "source": [
    "df.plot(kind='scatter', x='Total Discharges', y='Average Total Payments', alpha=.1, figsize=(10,7))\n",
    "#set xlabel and title\n",
    "plt.xlabel('Total Discharges')\n",
    "plt.ylabel('Average Total Payments')\n",
    "plt.title('Distripution of Average Total Payments')"
   ]
  },
  {
   "cell_type": "markdown",
   "metadata": {
    "colab_type": "text",
    "id": "b26CzUOgufk3"
   },
   "source": [
    "<div style=\"direction:rtl;text-align:right\">\n",
    "في الرسم أعلاه، كل نقطة تمثل صف من صفوف البيانات. وكما هو ملاحظ، فإن التكاليف الباهضة (أكثر من 100 ألف دولار) في الحقيقة لم تعطى إلا لعدد قليل جداً من المرضى بينما كلما زادت عدد المرضى كلما انخفض متوسط التكاليف. هذه الملاحظات كلها مبنية على توزيع النقط وكثافتها. ومن هنا نستطيع أن نقدر أهمية الرسم البياني في الكشف عن البيانات."
   ]
  },
  {
   "cell_type": "markdown",
   "metadata": {
    "colab_type": "text",
    "id": "Ed_EuIaXufk3"
   },
   "source": [
    "<div style=\"direction:rtl;text-align:right\">\n",
    "من ضمن الرسوم البيانية، لدينا البار تشارت. وهذا حقيقة هو الرسم الذي بدأنا به ولكن سأستخدمه هنا بطريقة أخرى. بشكل عام، نستخدم البار تشارت في حال كان لدينا متغيرات فئوية أو نوعية بحيث لكل متغير قيم مختلفة. مثلاً، نريد أن نعرف ماهي الولاية الأكبر من ناحية التكاليف وماهي الولاية الأقل ؟ لعمل ذلك ، نريد أن نرى الولايات في المحور السيني، و طول البار على حسب متوسط التكاليف. لعمل ذلك في باندا، نقوم أولا باستخدام الأمر الذي تعلمناه في الدروس السابقة: groupby لحساب متوسط التكاليف لكل ولاية على حدة، ومن ثم رسم هذا الملخص."
   ]
  },
  {
   "cell_type": "code",
   "execution_count": 70,
   "metadata": {
    "colab": {},
    "colab_type": "code",
    "id": "q2v08_sWufk4"
   },
   "outputs": [],
   "source": [
    "df_state_by_cost = df.groupby('Provider State').mean()['Average Total Payments']"
   ]
  },
  {
   "cell_type": "code",
   "execution_count": 71,
   "metadata": {
    "colab": {},
    "colab_type": "code",
    "id": "8tGo837qufk7",
    "outputId": "6a44d74b-b676-4ccd-8302-3ae91b391c19"
   },
   "outputs": [
    {
     "data": {
      "text/plain": [
       "Provider State\n",
       "AK    14552.312870\n",
       "AL     7547.227129\n",
       "AR     8000.170913\n",
       "AZ    10138.206277\n",
       "CA    12607.024109\n",
       "Name: Average Total Payments, dtype: float64"
      ]
     },
     "execution_count": 71,
     "metadata": {},
     "output_type": "execute_result"
    }
   ],
   "source": [
    "df_state_by_cost.head()"
   ]
  },
  {
   "cell_type": "markdown",
   "metadata": {},
   "source": [
    "<div style=\"direction:rtl;text-align:right\">\n",
    "ونقوم الآن برسم البار تشارت."
   ]
  },
  {
   "cell_type": "code",
   "execution_count": 72,
   "metadata": {
    "colab": {},
    "colab_type": "code",
    "id": "fU5XE1sXuflE",
    "outputId": "87e6c405-94f5-4cf1-b4b2-22172a1ef099"
   },
   "outputs": [
    {
     "data": {
      "text/plain": [
       "Text(0.5, 0, 'Provider State')"
      ]
     },
     "execution_count": 72,
     "metadata": {},
     "output_type": "execute_result"
    },
    {
     "data": {
      "image/png": "[encoded data removed]",
      "text/plain": [
       "<Figure size 1440x360 with 1 Axes>"
      ]
     },
     "metadata": {
      "needs_background": "light"
     },
     "output_type": "display_data"
    }
   ],
   "source": [
    "plt.figure(figsize=(20,5))\n",
    "\n",
    "# or through pandas\n",
    "df_state_by_cost.plot.bar()\n",
    "\n",
    "plt.title('Avgerage Cost (%) Across States', fontsize=20)\n",
    "plt.xlabel('Average Cost ($)', fontsize=20)\n",
    "plt.xlabel('Provider State', fontsize=20)"
   ]
  },
  {
   "cell_type": "markdown",
   "metadata": {
    "colab_type": "text",
    "id": "7TlNURwAuflI"
   },
   "source": [
    "<div style=\"direction:rtl;text-align:right\">\n",
    "نرى الآن بوضوح أن الولايات تختلف بيما بينها بشكل كبير في متوسط التكاليف. فولاية AL أو ألاباما تعتبر الأرخص بينما ولاية AK أوكلاهوما تعتبر الأغلى. لكن هل يمكن رسم هذا البار بشكل أفضل؟ لو رتبنا الولايات من الأرخص إلى الأغلى ستكون المقارنة أسهل بكثير. لاحظ الأمر التالي واكتشف الفرق بينه وبين الأمر السابق!"
   ]
  },
  {
   "cell_type": "code",
   "execution_count": 82,
   "metadata": {
    "colab": {},
    "colab_type": "code",
    "id": "NpgSN17GuflI",
    "outputId": "b3f27c05-bc2c-49ac-f524-dc3f3874d33a"
   },
   "outputs": [
    {
     "data": {
      "text/plain": [
       "Text(0.5, 0, 'Provider State')"
      ]
     },
     "execution_count": 82,
     "metadata": {},
     "output_type": "execute_result"
    },
    {
     "data": {
      "image/png": "[encoded data removed]",
      "text/plain": [
       "<Figure size 1440x360 with 1 Axes>"
      ]
     },
     "metadata": {
      "needs_background": "light"
     },
     "output_type": "display_data"
    }
   ],
   "source": [
    "plt.figure(figsize=(20,5))\n",
    "\n",
    "df_state_by_cost.sort_values().plot.bar()\n",
    "\n",
    "plt.title('Avgerage Cost (%) Across States', fontsize=20)\n",
    "plt.xlabel('Average Cost ($)', fontsize=20)\n",
    "plt.xlabel('Provider State', fontsize=20)"
   ]
  },
  {
   "cell_type": "markdown",
   "metadata": {
    "colab_type": "text",
    "id": "-VDtvO1nuflb"
   },
   "source": [
    "<div style=\"direction:rtl;text-align:right\">\n",
    "بالطبع الرسم أعلاه هو المتوسط الكلي للأمراض. وإلا في الواقع ، تجد أن بعض الأمراض أكثر تكاليفاً في الولايات الرخيصة والعكس صحيح. فكيف يمكن أن نعرف الشكل أعلاه بحسب الأمراض؟ سنقوم بتبسيط المهمة ونختار ولايات معينة لنرى اختلاف تكاليف الأمراض فيها."
   ]
  },
  {
   "cell_type": "code",
   "execution_count": 84,
   "metadata": {
    "colab": {},
    "colab_type": "code",
    "id": "ftK3O4Fguflc"
   },
   "outputs": [],
   "source": [
    "states = ['AL', 'AK']\n",
    "\n",
    "# Choose most popular DRGs\n",
    "top_drg  = df['DRG Definition'].value_counts().index[:10]\n",
    "\n",
    "# we want to choose rows where diagnosis is in `top_drg`, and state is in `states`\n",
    "filter_rows = (df['DRG Definition'].isin(top_drg)) & (df['Provider State'].isin(states))\n",
    "\n",
    "# now we select those rows and store the result in a new varible\n",
    "df_two_states = df[filter_rows]\n",
    "\n",
    "# now, we calculate the average cost of each drg per state\n",
    "df_state_by_cost_by_diagnosis = df_two_states.groupby(['Provider State','DRG Definition']).mean()['Average Total Payments'].reset_index()"
   ]
  },
  {
   "cell_type": "code",
   "execution_count": 85,
   "metadata": {
    "colab": {},
    "colab_type": "code",
    "id": "aAWSMAvhuflh"
   },
   "outputs": [],
   "source": [
    "# here, we clip long strings (drg) to be smaller so they look nicer when we plot them\n",
    "df_state_by_cost_by_diagnosis['DRG Definition'] = df_state_by_cost_by_diagnosis['DRG Definition'].str[6:40]"
   ]
  },
  {
   "cell_type": "markdown",
   "metadata": {},
   "source": [
    "<div style=\"direction:rtl;text-align:right\">\n",
    "لنرى الآن كيف تبدو البيانات الجديدة قبل رسمها:"
   ]
  },
  {
   "cell_type": "code",
   "execution_count": 77,
   "metadata": {
    "colab": {},
    "colab_type": "code",
    "id": "Y4CVh1SIuflj",
    "outputId": "455e9b84-0b37-4cab-9996-f3cd98fa707f"
   },
   "outputs": [
    {
     "data": {
      "text/html": [
       "<div>\n",
       "<style scoped>\n",
       "    .dataframe tbody tr th:only-of-type {\n",
       "        vertical-align: middle;\n",
       "    }\n",
       "\n",
       "    .dataframe tbody tr th {\n",
       "        vertical-align: top;\n",
       "    }\n",
       "\n",
       "    .dataframe thead th {\n",
       "        text-align: right;\n",
       "    }\n",
       "</style>\n",
       "<table border=\"1\" class=\"dataframe\">\n",
       "  <thead>\n",
       "    <tr style=\"text-align: right;\">\n",
       "      <th></th>\n",
       "      <th>Provider State</th>\n",
       "      <th>DRG Definition</th>\n",
       "      <th>Average Total Payments</th>\n",
       "    </tr>\n",
       "  </thead>\n",
       "  <tbody>\n",
       "    <tr>\n",
       "      <th>0</th>\n",
       "      <td>AK</td>\n",
       "      <td>CHRONIC OBSTRUCTIVE PULMONARY DISE</td>\n",
       "      <td>13414.714286</td>\n",
       "    </tr>\n",
       "    <tr>\n",
       "      <th>1</th>\n",
       "      <td>AK</td>\n",
       "      <td>CHRONIC OBSTRUCTIVE PULMONARY DISE</td>\n",
       "      <td>10634.001667</td>\n",
       "    </tr>\n",
       "    <tr>\n",
       "      <th>2</th>\n",
       "      <td>AK</td>\n",
       "      <td>CHRONIC OBSTRUCTIVE PULMONARY DISE</td>\n",
       "      <td>8089.003333</td>\n",
       "    </tr>\n",
       "    <tr>\n",
       "      <th>3</th>\n",
       "      <td>AK</td>\n",
       "      <td>SIMPLE PNEUMONIA &amp; PLEURISY W CC</td>\n",
       "      <td>10842.983750</td>\n",
       "    </tr>\n",
       "    <tr>\n",
       "      <th>4</th>\n",
       "      <td>AK</td>\n",
       "      <td>SIMPLE PNEUMONIA &amp; PLEURISY W/O CC</td>\n",
       "      <td>7617.950000</td>\n",
       "    </tr>\n",
       "    <tr>\n",
       "      <th>5</th>\n",
       "      <td>AK</td>\n",
       "      <td>HEART FAILURE &amp; SHOCK W CC</td>\n",
       "      <td>11872.301429</td>\n",
       "    </tr>\n",
       "    <tr>\n",
       "      <th>6</th>\n",
       "      <td>AK</td>\n",
       "      <td>ESOPHAGITIS, GASTROENT &amp; MISC DIGE</td>\n",
       "      <td>7960.668750</td>\n",
       "    </tr>\n",
       "    <tr>\n",
       "      <th>7</th>\n",
       "      <td>AK</td>\n",
       "      <td>CELLULITIS W/O MCC</td>\n",
       "      <td>9748.626250</td>\n",
       "    </tr>\n",
       "    <tr>\n",
       "      <th>8</th>\n",
       "      <td>AK</td>\n",
       "      <td>MISC DISORDERS OF NUTRITION,METABO</td>\n",
       "      <td>7800.780000</td>\n",
       "    </tr>\n",
       "    <tr>\n",
       "      <th>9</th>\n",
       "      <td>AK</td>\n",
       "      <td>KIDNEY &amp; URINARY TRACT INFECTIONS</td>\n",
       "      <td>8331.255714</td>\n",
       "    </tr>\n",
       "    <tr>\n",
       "      <th>10</th>\n",
       "      <td>AL</td>\n",
       "      <td>CHRONIC OBSTRUCTIVE PULMONARY DISE</td>\n",
       "      <td>6849.196933</td>\n",
       "    </tr>\n",
       "    <tr>\n",
       "      <th>11</th>\n",
       "      <td>AL</td>\n",
       "      <td>CHRONIC OBSTRUCTIVE PULMONARY DISE</td>\n",
       "      <td>5702.264737</td>\n",
       "    </tr>\n",
       "    <tr>\n",
       "      <th>12</th>\n",
       "      <td>AL</td>\n",
       "      <td>CHRONIC OBSTRUCTIVE PULMONARY DISE</td>\n",
       "      <td>4299.313214</td>\n",
       "    </tr>\n",
       "    <tr>\n",
       "      <th>13</th>\n",
       "      <td>AL</td>\n",
       "      <td>SIMPLE PNEUMONIA &amp; PLEURISY W CC</td>\n",
       "      <td>5904.575783</td>\n",
       "    </tr>\n",
       "    <tr>\n",
       "      <th>14</th>\n",
       "      <td>AL</td>\n",
       "      <td>SIMPLE PNEUMONIA &amp; PLEURISY W/O CC</td>\n",
       "      <td>4215.646892</td>\n",
       "    </tr>\n",
       "    <tr>\n",
       "      <th>15</th>\n",
       "      <td>AL</td>\n",
       "      <td>HEART FAILURE &amp; SHOCK W CC</td>\n",
       "      <td>5790.065972</td>\n",
       "    </tr>\n",
       "    <tr>\n",
       "      <th>16</th>\n",
       "      <td>AL</td>\n",
       "      <td>ESOPHAGITIS, GASTROENT &amp; MISC DIGE</td>\n",
       "      <td>4279.547375</td>\n",
       "    </tr>\n",
       "    <tr>\n",
       "      <th>17</th>\n",
       "      <td>AL</td>\n",
       "      <td>CELLULITIS W/O MCC</td>\n",
       "      <td>5001.015890</td>\n",
       "    </tr>\n",
       "    <tr>\n",
       "      <th>18</th>\n",
       "      <td>AL</td>\n",
       "      <td>MISC DISORDERS OF NUTRITION,METABO</td>\n",
       "      <td>4053.550000</td>\n",
       "    </tr>\n",
       "    <tr>\n",
       "      <th>19</th>\n",
       "      <td>AL</td>\n",
       "      <td>KIDNEY &amp; URINARY TRACT INFECTIONS</td>\n",
       "      <td>4552.518929</td>\n",
       "    </tr>\n",
       "  </tbody>\n",
       "</table>\n",
       "</div>"
      ],
      "text/plain": [
       "   Provider State                      DRG Definition  Average Total Payments\n",
       "0              AK  CHRONIC OBSTRUCTIVE PULMONARY DISE            13414.714286\n",
       "1              AK  CHRONIC OBSTRUCTIVE PULMONARY DISE            10634.001667\n",
       "2              AK  CHRONIC OBSTRUCTIVE PULMONARY DISE             8089.003333\n",
       "3              AK    SIMPLE PNEUMONIA & PLEURISY W CC            10842.983750\n",
       "4              AK  SIMPLE PNEUMONIA & PLEURISY W/O CC             7617.950000\n",
       "5              AK          HEART FAILURE & SHOCK W CC            11872.301429\n",
       "6              AK  ESOPHAGITIS, GASTROENT & MISC DIGE             7960.668750\n",
       "7              AK                  CELLULITIS W/O MCC             9748.626250\n",
       "8              AK  MISC DISORDERS OF NUTRITION,METABO             7800.780000\n",
       "9              AK  KIDNEY & URINARY TRACT INFECTIONS              8331.255714\n",
       "10             AL  CHRONIC OBSTRUCTIVE PULMONARY DISE             6849.196933\n",
       "11             AL  CHRONIC OBSTRUCTIVE PULMONARY DISE             5702.264737\n",
       "12             AL  CHRONIC OBSTRUCTIVE PULMONARY DISE             4299.313214\n",
       "13             AL    SIMPLE PNEUMONIA & PLEURISY W CC             5904.575783\n",
       "14             AL  SIMPLE PNEUMONIA & PLEURISY W/O CC             4215.646892\n",
       "15             AL          HEART FAILURE & SHOCK W CC             5790.065972\n",
       "16             AL  ESOPHAGITIS, GASTROENT & MISC DIGE             4279.547375\n",
       "17             AL                  CELLULITIS W/O MCC             5001.015890\n",
       "18             AL  MISC DISORDERS OF NUTRITION,METABO             4053.550000\n",
       "19             AL  KIDNEY & URINARY TRACT INFECTIONS              4552.518929"
      ]
     },
     "execution_count": 77,
     "metadata": {},
     "output_type": "execute_result"
    }
   ],
   "source": [
    "df_state_by_cost_by_diagnosis"
   ]
  },
  {
   "cell_type": "markdown",
   "metadata": {},
   "source": [
    "<div style=\"direction:rtl;text-align:right\">\n",
    "سنقوم اولا بتحويل العمود أعلاه إلى جدول آخر بحيث يكون لدينا اسم التشخيص في الصفوف، والولايات في الأعمدة:"
   ]
  },
  {
   "cell_type": "code",
   "execution_count": 86,
   "metadata": {
    "colab": {},
    "colab_type": "code",
    "id": "z_J43OBauflo"
   },
   "outputs": [],
   "source": [
    "df_drg_by_state_avg_cost = df_state_by_cost_by_diagnosis.pivot_table(values='Average Total Payments', \n",
    "                                                                     index='DRG Definition', \n",
    "                                                                     columns='Provider State')"
   ]
  },
  {
   "cell_type": "code",
   "execution_count": 87,
   "metadata": {},
   "outputs": [
    {
     "data": {
      "text/html": [
       "<div>\n",
       "<style scoped>\n",
       "    .dataframe tbody tr th:only-of-type {\n",
       "        vertical-align: middle;\n",
       "    }\n",
       "\n",
       "    .dataframe tbody tr th {\n",
       "        vertical-align: top;\n",
       "    }\n",
       "\n",
       "    .dataframe thead th {\n",
       "        text-align: right;\n",
       "    }\n",
       "</style>\n",
       "<table border=\"1\" class=\"dataframe\">\n",
       "  <thead>\n",
       "    <tr style=\"text-align: right;\">\n",
       "      <th>Provider State</th>\n",
       "      <th>AK</th>\n",
       "      <th>AL</th>\n",
       "    </tr>\n",
       "    <tr>\n",
       "      <th>DRG Definition</th>\n",
       "      <th></th>\n",
       "      <th></th>\n",
       "    </tr>\n",
       "  </thead>\n",
       "  <tbody>\n",
       "    <tr>\n",
       "      <th>CELLULITIS W/O MCC</th>\n",
       "      <td>9748.626250</td>\n",
       "      <td>5001.015890</td>\n",
       "    </tr>\n",
       "    <tr>\n",
       "      <th>CHRONIC OBSTRUCTIVE PULMONARY DISE</th>\n",
       "      <td>10712.573095</td>\n",
       "      <td>5616.924961</td>\n",
       "    </tr>\n",
       "    <tr>\n",
       "      <th>ESOPHAGITIS, GASTROENT &amp; MISC DIGE</th>\n",
       "      <td>7960.668750</td>\n",
       "      <td>4279.547375</td>\n",
       "    </tr>\n",
       "    <tr>\n",
       "      <th>HEART FAILURE &amp; SHOCK W CC</th>\n",
       "      <td>11872.301429</td>\n",
       "      <td>5790.065972</td>\n",
       "    </tr>\n",
       "    <tr>\n",
       "      <th>KIDNEY &amp; URINARY TRACT INFECTIONS</th>\n",
       "      <td>8331.255714</td>\n",
       "      <td>4552.518929</td>\n",
       "    </tr>\n",
       "  </tbody>\n",
       "</table>\n",
       "</div>"
      ],
      "text/plain": [
       "Provider State                                AK           AL\n",
       "DRG Definition                                               \n",
       "CELLULITIS W/O MCC                   9748.626250  5001.015890\n",
       "CHRONIC OBSTRUCTIVE PULMONARY DISE  10712.573095  5616.924961\n",
       "ESOPHAGITIS, GASTROENT & MISC DIGE   7960.668750  4279.547375\n",
       "HEART FAILURE & SHOCK W CC          11872.301429  5790.065972\n",
       "KIDNEY & URINARY TRACT INFECTIONS    8331.255714  4552.518929"
      ]
     },
     "execution_count": 87,
     "metadata": {},
     "output_type": "execute_result"
    }
   ],
   "source": [
    "df_drg_by_state_avg_cost.head()"
   ]
  },
  {
   "cell_type": "markdown",
   "metadata": {},
   "source": [
    "<div style=\"direction:rtl;text-align:right\">\n",
    "ونقوم الآن برسم البار تشارت."
   ]
  },
  {
   "cell_type": "code",
   "execution_count": 88,
   "metadata": {
    "colab": {},
    "colab_type": "code",
    "id": "0spy7Zy5uflr",
    "outputId": "dcc1ef22-5aab-4233-86ce-37cae2b45fdc"
   },
   "outputs": [
    {
     "data": {
      "text/plain": [
       "Text(0.5, 1.0, 'Average Cost Per State')"
      ]
     },
     "execution_count": 88,
     "metadata": {},
     "output_type": "execute_result"
    },
    {
     "data": {
      "image/png": "[encoded data removed]",
      "text/plain": [
       "<Figure size 504x720 with 1 Axes>"
      ]
     },
     "metadata": {
      "needs_background": "light"
     },
     "output_type": "display_data"
    }
   ],
   "source": [
    "df_drg_by_state_avg_cost.plot.barh(figsize=(7,10))\n",
    "plt.xlabel('Average Total Payment', fontsize=20)\n",
    "plt.ylabel('Diagnosis', fontsize=20)\n",
    "plt.title('Average Cost Per State', fontsize=20)"
   ]
  },
  {
   "cell_type": "markdown",
   "metadata": {},
   "source": [
    "<div style=\"direction:rtl;text-align:right\">\n",
    "في البار تشارت أعلاه نجد فروقا هائلة في تكاليف بعض الأمراض من ولاية إلى ولاية أخرى بفروق تصل إلى آلاف الدولارات. في الحقيقة نستطيع ترتيب هذه الفروق بأخذ الفرق أولاً بين الولايتين ثم ترتيب الأمراض بحسب حجم الفرق في التكلفة:"
   ]
  },
  {
   "cell_type": "code",
   "execution_count": 89,
   "metadata": {
    "colab": {},
    "colab_type": "code",
    "id": "b2LJG9-Cufl0"
   },
   "outputs": [],
   "source": [
    "diff = (df_drg_by_state_avg_cost['AK'] - df_drg_by_state_avg_cost['AL'])"
   ]
  },
  {
   "cell_type": "code",
   "execution_count": 90,
   "metadata": {
    "colab": {},
    "colab_type": "code",
    "id": "8iKCs07-ufl9",
    "outputId": "ad727542-2f3d-4477-e3ec-8cabcf4b5582"
   },
   "outputs": [
    {
     "data": {
      "text/plain": [
       "<matplotlib.axes._subplots.AxesSubplot at 0x139853c88>"
      ]
     },
     "execution_count": 90,
     "metadata": {},
     "output_type": "execute_result"
    },
    {
     "data": {
      "image/png": "[encoded data removed]",
      "text/plain": [
       "<Figure size 432x288 with 1 Axes>"
      ]
     },
     "metadata": {
      "needs_background": "light"
     },
     "output_type": "display_data"
    }
   ],
   "source": [
    "diff.sort_values().plot(kind='barh')"
   ]
  },
  {
   "cell_type": "markdown",
   "metadata": {},
   "source": [
    "<div style=\"direction:rtl;text-align:right\">\n",
    "ونجد في الرسم أعلاه أن الفروق في التكاليف بين الولايات قد تصل إلى حوالي ستة آلاف دولار في أمراض  القلب والجلطات  وتقل في أمراض أخرى."
   ]
  },
  {
   "cell_type": "markdown",
   "metadata": {
    "colab_type": "text",
    "id": "oLMunxF7ufmG"
   },
   "source": [
    "<div style=\"direction:rtl;text-align:right\">\n",
    "كانت هذه جولة سريعة في كيفية طرح الأسئلة واكتشاف الاجابات من خلال البيانات. بحر تصوير البيانات لا يحده سوى الأسئلة التي نطرحها على البيانات. ولكل سؤال رسم بياني لا يجيب عن السؤال فحسب بل يضع أمامنا الصورة الكاملة كما تحكيها البيانات التي بين أيدينا. سنستكمل مهارات رسم البيانات خلال الدروس القادمة."
   ]
  },
  {
   "cell_type": "markdown",
   "metadata": {
    "colab_type": "text",
    "id": "z2tgZDhCufmG"
   },
   "source": [
    "<div style=\"direction:rtl;text-align:right\">\n",
    "وهنا ينتهي الاستكشاف الأولي للبيانات حيث بدأنا بتنظيف البيانات ثم قمنا بسرد العديد من الوسائل العملية لتصوير البيانات للإجابة عن أسئلتنا الني نطرحها. لا يمكن أن تكون هذه المقدمة كافية لتغطية كافة جوانب اكتشاف البيانات الأولي ولكن مع الممارسة والتجربة ستزيد متعة الاكتشاف ومتعة التعلم."
   ]
  }
 ],
 "metadata": {
  "colab": {
   "name": "Lab 3 - Data Cleaning and EDA.ipynb",
   "provenance": [],
   "version": "0.3.2"
  },
  "kernelspec": {
   "display_name": "Python 3",
   "language": "python",
   "name": "python3"
  },
  "language_info": {
   "codemirror_mode": {
    "name": "ipython",
    "version": 3
   },
   "file_extension": ".py",
   "mimetype": "text/x-python",
   "name": "python",
   "nbconvert_exporter": "python",
   "pygments_lexer": "ipython3",
   "version": "3.7.3"
  }
 },
 "nbformat": 4,
 "nbformat_minor": 1
}
